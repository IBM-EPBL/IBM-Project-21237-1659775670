{
  "nbformat": 4,
  "nbformat_minor": 0,
  "metadata": {
    "colab": {
      "provenance": []
    },
    "kernelspec": {
      "name": "python3",
      "display_name": "Python 3"
    },
    "language_info": {
      "name": "python"
    }
  },
  "cells": [
    {
      "cell_type": "code",
      "execution_count": null,
      "metadata": {
        "id": "Q-Hbsj5Q5PcW"
      },
      "outputs": [],
      "source": [
        "import numpy as np\n",
        "np.seterr(divide='ignore', invalid='ignore')\n",
        "import pandas as pd\n",
        "import matplotlib.pyplot as plt\n",
        "import seaborn as sns\n",
        "import plotly.express as px"
      ]
    },
    {
      "cell_type": "code",
      "source": [
        "df = pd.read_csv('crop_production.csv')"
      ],
      "metadata": {
        "id": "TIEPxezB50BE"
      },
      "execution_count": null,
      "outputs": []
    },
    {
      "cell_type": "code",
      "source": [
        "df.info()"
      ],
      "metadata": {
        "colab": {
          "base_uri": "https://localhost:8080/"
        },
        "id": "SF19zGUO59Ly",
        "outputId": "9e2bc980-45dd-4983-c876-2fe6f955edbb"
      },
      "execution_count": null,
      "outputs": [
        {
          "output_type": "stream",
          "name": "stdout",
          "text": [
            "<class 'pandas.core.frame.DataFrame'>\n",
            "RangeIndex: 246091 entries, 0 to 246090\n",
            "Data columns (total 7 columns):\n",
            " #   Column         Non-Null Count   Dtype  \n",
            "---  ------         --------------   -----  \n",
            " 0   State_Name     246091 non-null  object \n",
            " 1   District_Name  246091 non-null  object \n",
            " 2   Crop_Year      246091 non-null  int64  \n",
            " 3   Season         246091 non-null  object \n",
            " 4   Crop           246091 non-null  object \n",
            " 5   Area           246091 non-null  float64\n",
            " 6   Production     242361 non-null  float64\n",
            "dtypes: float64(2), int64(1), object(4)\n",
            "memory usage: 13.1+ MB\n"
          ]
        }
      ]
    },
    {
      "cell_type": "code",
      "source": [
        "df.describe()\n",
        "\n"
      ],
      "metadata": {
        "colab": {
          "base_uri": "https://localhost:8080/",
          "height": 300
        },
        "id": "YFMve9QZ5_vR",
        "outputId": "347ff60c-f0d1-414a-a03b-6023e8ca26cf"
      },
      "execution_count": null,
      "outputs": [
        {
          "output_type": "execute_result",
          "data": {
            "text/plain": [
              "           Crop_Year          Area    Production\n",
              "count  220383.000000  2.203830e+05  2.167830e+05\n",
              "mean     2005.604793  1.170116e+04  6.383420e+05\n",
              "std         4.936072  3.781905e+04  1.803895e+07\n",
              "min      1997.000000  4.000000e-02  0.000000e+00\n",
              "25%      2002.000000  8.400000e+01  9.300000e+01\n",
              "50%      2006.000000  6.000000e+02  7.500000e+02\n",
              "75%      2010.000000  4.490000e+03  7.081485e+03\n",
              "max      2015.000000  1.020181e+06  1.250800e+09"
            ],
            "text/html": [
              "\n",
              "  <div id=\"df-0a0fc414-4f9f-4cbe-b4a4-0a0039e45577\">\n",
              "    <div class=\"colab-df-container\">\n",
              "      <div>\n",
              "<style scoped>\n",
              "    .dataframe tbody tr th:only-of-type {\n",
              "        vertical-align: middle;\n",
              "    }\n",
              "\n",
              "    .dataframe tbody tr th {\n",
              "        vertical-align: top;\n",
              "    }\n",
              "\n",
              "    .dataframe thead th {\n",
              "        text-align: right;\n",
              "    }\n",
              "</style>\n",
              "<table border=\"1\" class=\"dataframe\">\n",
              "  <thead>\n",
              "    <tr style=\"text-align: right;\">\n",
              "      <th></th>\n",
              "      <th>Crop_Year</th>\n",
              "      <th>Area</th>\n",
              "      <th>Production</th>\n",
              "    </tr>\n",
              "  </thead>\n",
              "  <tbody>\n",
              "    <tr>\n",
              "      <th>count</th>\n",
              "      <td>220383.000000</td>\n",
              "      <td>2.203830e+05</td>\n",
              "      <td>2.167830e+05</td>\n",
              "    </tr>\n",
              "    <tr>\n",
              "      <th>mean</th>\n",
              "      <td>2005.604793</td>\n",
              "      <td>1.170116e+04</td>\n",
              "      <td>6.383420e+05</td>\n",
              "    </tr>\n",
              "    <tr>\n",
              "      <th>std</th>\n",
              "      <td>4.936072</td>\n",
              "      <td>3.781905e+04</td>\n",
              "      <td>1.803895e+07</td>\n",
              "    </tr>\n",
              "    <tr>\n",
              "      <th>min</th>\n",
              "      <td>1997.000000</td>\n",
              "      <td>4.000000e-02</td>\n",
              "      <td>0.000000e+00</td>\n",
              "    </tr>\n",
              "    <tr>\n",
              "      <th>25%</th>\n",
              "      <td>2002.000000</td>\n",
              "      <td>8.400000e+01</td>\n",
              "      <td>9.300000e+01</td>\n",
              "    </tr>\n",
              "    <tr>\n",
              "      <th>50%</th>\n",
              "      <td>2006.000000</td>\n",
              "      <td>6.000000e+02</td>\n",
              "      <td>7.500000e+02</td>\n",
              "    </tr>\n",
              "    <tr>\n",
              "      <th>75%</th>\n",
              "      <td>2010.000000</td>\n",
              "      <td>4.490000e+03</td>\n",
              "      <td>7.081485e+03</td>\n",
              "    </tr>\n",
              "    <tr>\n",
              "      <th>max</th>\n",
              "      <td>2015.000000</td>\n",
              "      <td>1.020181e+06</td>\n",
              "      <td>1.250800e+09</td>\n",
              "    </tr>\n",
              "  </tbody>\n",
              "</table>\n",
              "</div>\n",
              "      <button class=\"colab-df-convert\" onclick=\"convertToInteractive('df-0a0fc414-4f9f-4cbe-b4a4-0a0039e45577')\"\n",
              "              title=\"Convert this dataframe to an interactive table.\"\n",
              "              style=\"display:none;\">\n",
              "        \n",
              "  <svg xmlns=\"http://www.w3.org/2000/svg\" height=\"24px\"viewBox=\"0 0 24 24\"\n",
              "       width=\"24px\">\n",
              "    <path d=\"M0 0h24v24H0V0z\" fill=\"none\"/>\n",
              "    <path d=\"M18.56 5.44l.94 2.06.94-2.06 2.06-.94-2.06-.94-.94-2.06-.94 2.06-2.06.94zm-11 1L8.5 8.5l.94-2.06 2.06-.94-2.06-.94L8.5 2.5l-.94 2.06-2.06.94zm10 10l.94 2.06.94-2.06 2.06-.94-2.06-.94-.94-2.06-.94 2.06-2.06.94z\"/><path d=\"M17.41 7.96l-1.37-1.37c-.4-.4-.92-.59-1.43-.59-.52 0-1.04.2-1.43.59L10.3 9.45l-7.72 7.72c-.78.78-.78 2.05 0 2.83L4 21.41c.39.39.9.59 1.41.59.51 0 1.02-.2 1.41-.59l7.78-7.78 2.81-2.81c.8-.78.8-2.07 0-2.86zM5.41 20L4 18.59l7.72-7.72 1.47 1.35L5.41 20z\"/>\n",
              "  </svg>\n",
              "      </button>\n",
              "      \n",
              "  <style>\n",
              "    .colab-df-container {\n",
              "      display:flex;\n",
              "      flex-wrap:wrap;\n",
              "      gap: 12px;\n",
              "    }\n",
              "\n",
              "    .colab-df-convert {\n",
              "      background-color: #E8F0FE;\n",
              "      border: none;\n",
              "      border-radius: 50%;\n",
              "      cursor: pointer;\n",
              "      display: none;\n",
              "      fill: #1967D2;\n",
              "      height: 32px;\n",
              "      padding: 0 0 0 0;\n",
              "      width: 32px;\n",
              "    }\n",
              "\n",
              "    .colab-df-convert:hover {\n",
              "      background-color: #E2EBFA;\n",
              "      box-shadow: 0px 1px 2px rgba(60, 64, 67, 0.3), 0px 1px 3px 1px rgba(60, 64, 67, 0.15);\n",
              "      fill: #174EA6;\n",
              "    }\n",
              "\n",
              "    [theme=dark] .colab-df-convert {\n",
              "      background-color: #3B4455;\n",
              "      fill: #D2E3FC;\n",
              "    }\n",
              "\n",
              "    [theme=dark] .colab-df-convert:hover {\n",
              "      background-color: #434B5C;\n",
              "      box-shadow: 0px 1px 3px 1px rgba(0, 0, 0, 0.15);\n",
              "      filter: drop-shadow(0px 1px 2px rgba(0, 0, 0, 0.3));\n",
              "      fill: #FFFFFF;\n",
              "    }\n",
              "  </style>\n",
              "\n",
              "      <script>\n",
              "        const buttonEl =\n",
              "          document.querySelector('#df-0a0fc414-4f9f-4cbe-b4a4-0a0039e45577 button.colab-df-convert');\n",
              "        buttonEl.style.display =\n",
              "          google.colab.kernel.accessAllowed ? 'block' : 'none';\n",
              "\n",
              "        async function convertToInteractive(key) {\n",
              "          const element = document.querySelector('#df-0a0fc414-4f9f-4cbe-b4a4-0a0039e45577');\n",
              "          const dataTable =\n",
              "            await google.colab.kernel.invokeFunction('convertToInteractive',\n",
              "                                                     [key], {});\n",
              "          if (!dataTable) return;\n",
              "\n",
              "          const docLinkHtml = 'Like what you see? Visit the ' +\n",
              "            '<a target=\"_blank\" href=https://colab.research.google.com/notebooks/data_table.ipynb>data table notebook</a>'\n",
              "            + ' to learn more about interactive tables.';\n",
              "          element.innerHTML = '';\n",
              "          dataTable['output_type'] = 'display_data';\n",
              "          await google.colab.output.renderOutput(dataTable, element);\n",
              "          const docLink = document.createElement('div');\n",
              "          docLink.innerHTML = docLinkHtml;\n",
              "          element.appendChild(docLink);\n",
              "        }\n",
              "      </script>\n",
              "    </div>\n",
              "  </div>\n",
              "  "
            ]
          },
          "metadata": {},
          "execution_count": 6
        }
      ]
    },
    {
      "cell_type": "code",
      "source": [
        "len(df['State_Name'].unique())"
      ],
      "metadata": {
        "colab": {
          "base_uri": "https://localhost:8080/"
        },
        "id": "Azx3wdgk6HrS",
        "outputId": "a455c163-aa65-4f18-9948-969aa9d785da"
      },
      "execution_count": null,
      "outputs": [
        {
          "output_type": "execute_result",
          "data": {
            "text/plain": [
              "31"
            ]
          },
          "metadata": {},
          "execution_count": 8
        }
      ]
    },
    {
      "cell_type": "code",
      "source": [
        "len(df['Crop'].unique())"
      ],
      "metadata": {
        "colab": {
          "base_uri": "https://localhost:8080/"
        },
        "id": "awommSsn6K_P",
        "outputId": "e8c8c718-a5b0-435d-904f-c259269d2bc7"
      },
      "execution_count": null,
      "outputs": [
        {
          "output_type": "execute_result",
          "data": {
            "text/plain": [
              "125"
            ]
          },
          "metadata": {},
          "execution_count": 9
        }
      ]
    },
    {
      "cell_type": "code",
      "source": [
        "df.head()"
      ],
      "metadata": {
        "colab": {
          "base_uri": "https://localhost:8080/",
          "height": 206
        },
        "id": "SkTQiSpc6NmH",
        "outputId": "5bbacc80-90bd-486b-855f-40104af27292"
      },
      "execution_count": null,
      "outputs": [
        {
          "output_type": "execute_result",
          "data": {
            "text/plain": [
              "                    State_Name District_Name  Crop_Year       Season  \\\n",
              "0  Andaman and Nicobar Islands      NICOBARS     2000.0  Kharif        \n",
              "1  Andaman and Nicobar Islands      NICOBARS     2000.0  Kharif        \n",
              "2  Andaman and Nicobar Islands      NICOBARS     2000.0  Kharif        \n",
              "3  Andaman and Nicobar Islands      NICOBARS     2000.0  Whole Year    \n",
              "4  Andaman and Nicobar Islands      NICOBARS     2000.0  Whole Year    \n",
              "\n",
              "                  Crop    Area  Production  \n",
              "0             Arecanut  1254.0      2000.0  \n",
              "1  Other Kharif pulses     2.0         1.0  \n",
              "2                 Rice   102.0       321.0  \n",
              "3               Banana   176.0       641.0  \n",
              "4            Cashewnut   720.0       165.0  "
            ],
            "text/html": [
              "\n",
              "  <div id=\"df-472fe72d-fcdf-41f9-8738-af5ccaa8d78a\">\n",
              "    <div class=\"colab-df-container\">\n",
              "      <div>\n",
              "<style scoped>\n",
              "    .dataframe tbody tr th:only-of-type {\n",
              "        vertical-align: middle;\n",
              "    }\n",
              "\n",
              "    .dataframe tbody tr th {\n",
              "        vertical-align: top;\n",
              "    }\n",
              "\n",
              "    .dataframe thead th {\n",
              "        text-align: right;\n",
              "    }\n",
              "</style>\n",
              "<table border=\"1\" class=\"dataframe\">\n",
              "  <thead>\n",
              "    <tr style=\"text-align: right;\">\n",
              "      <th></th>\n",
              "      <th>State_Name</th>\n",
              "      <th>District_Name</th>\n",
              "      <th>Crop_Year</th>\n",
              "      <th>Season</th>\n",
              "      <th>Crop</th>\n",
              "      <th>Area</th>\n",
              "      <th>Production</th>\n",
              "    </tr>\n",
              "  </thead>\n",
              "  <tbody>\n",
              "    <tr>\n",
              "      <th>0</th>\n",
              "      <td>Andaman and Nicobar Islands</td>\n",
              "      <td>NICOBARS</td>\n",
              "      <td>2000.0</td>\n",
              "      <td>Kharif</td>\n",
              "      <td>Arecanut</td>\n",
              "      <td>1254.0</td>\n",
              "      <td>2000.0</td>\n",
              "    </tr>\n",
              "    <tr>\n",
              "      <th>1</th>\n",
              "      <td>Andaman and Nicobar Islands</td>\n",
              "      <td>NICOBARS</td>\n",
              "      <td>2000.0</td>\n",
              "      <td>Kharif</td>\n",
              "      <td>Other Kharif pulses</td>\n",
              "      <td>2.0</td>\n",
              "      <td>1.0</td>\n",
              "    </tr>\n",
              "    <tr>\n",
              "      <th>2</th>\n",
              "      <td>Andaman and Nicobar Islands</td>\n",
              "      <td>NICOBARS</td>\n",
              "      <td>2000.0</td>\n",
              "      <td>Kharif</td>\n",
              "      <td>Rice</td>\n",
              "      <td>102.0</td>\n",
              "      <td>321.0</td>\n",
              "    </tr>\n",
              "    <tr>\n",
              "      <th>3</th>\n",
              "      <td>Andaman and Nicobar Islands</td>\n",
              "      <td>NICOBARS</td>\n",
              "      <td>2000.0</td>\n",
              "      <td>Whole Year</td>\n",
              "      <td>Banana</td>\n",
              "      <td>176.0</td>\n",
              "      <td>641.0</td>\n",
              "    </tr>\n",
              "    <tr>\n",
              "      <th>4</th>\n",
              "      <td>Andaman and Nicobar Islands</td>\n",
              "      <td>NICOBARS</td>\n",
              "      <td>2000.0</td>\n",
              "      <td>Whole Year</td>\n",
              "      <td>Cashewnut</td>\n",
              "      <td>720.0</td>\n",
              "      <td>165.0</td>\n",
              "    </tr>\n",
              "  </tbody>\n",
              "</table>\n",
              "</div>\n",
              "      <button class=\"colab-df-convert\" onclick=\"convertToInteractive('df-472fe72d-fcdf-41f9-8738-af5ccaa8d78a')\"\n",
              "              title=\"Convert this dataframe to an interactive table.\"\n",
              "              style=\"display:none;\">\n",
              "        \n",
              "  <svg xmlns=\"http://www.w3.org/2000/svg\" height=\"24px\"viewBox=\"0 0 24 24\"\n",
              "       width=\"24px\">\n",
              "    <path d=\"M0 0h24v24H0V0z\" fill=\"none\"/>\n",
              "    <path d=\"M18.56 5.44l.94 2.06.94-2.06 2.06-.94-2.06-.94-.94-2.06-.94 2.06-2.06.94zm-11 1L8.5 8.5l.94-2.06 2.06-.94-2.06-.94L8.5 2.5l-.94 2.06-2.06.94zm10 10l.94 2.06.94-2.06 2.06-.94-2.06-.94-.94-2.06-.94 2.06-2.06.94z\"/><path d=\"M17.41 7.96l-1.37-1.37c-.4-.4-.92-.59-1.43-.59-.52 0-1.04.2-1.43.59L10.3 9.45l-7.72 7.72c-.78.78-.78 2.05 0 2.83L4 21.41c.39.39.9.59 1.41.59.51 0 1.02-.2 1.41-.59l7.78-7.78 2.81-2.81c.8-.78.8-2.07 0-2.86zM5.41 20L4 18.59l7.72-7.72 1.47 1.35L5.41 20z\"/>\n",
              "  </svg>\n",
              "      </button>\n",
              "      \n",
              "  <style>\n",
              "    .colab-df-container {\n",
              "      display:flex;\n",
              "      flex-wrap:wrap;\n",
              "      gap: 12px;\n",
              "    }\n",
              "\n",
              "    .colab-df-convert {\n",
              "      background-color: #E8F0FE;\n",
              "      border: none;\n",
              "      border-radius: 50%;\n",
              "      cursor: pointer;\n",
              "      display: none;\n",
              "      fill: #1967D2;\n",
              "      height: 32px;\n",
              "      padding: 0 0 0 0;\n",
              "      width: 32px;\n",
              "    }\n",
              "\n",
              "    .colab-df-convert:hover {\n",
              "      background-color: #E2EBFA;\n",
              "      box-shadow: 0px 1px 2px rgba(60, 64, 67, 0.3), 0px 1px 3px 1px rgba(60, 64, 67, 0.15);\n",
              "      fill: #174EA6;\n",
              "    }\n",
              "\n",
              "    [theme=dark] .colab-df-convert {\n",
              "      background-color: #3B4455;\n",
              "      fill: #D2E3FC;\n",
              "    }\n",
              "\n",
              "    [theme=dark] .colab-df-convert:hover {\n",
              "      background-color: #434B5C;\n",
              "      box-shadow: 0px 1px 3px 1px rgba(0, 0, 0, 0.15);\n",
              "      filter: drop-shadow(0px 1px 2px rgba(0, 0, 0, 0.3));\n",
              "      fill: #FFFFFF;\n",
              "    }\n",
              "  </style>\n",
              "\n",
              "      <script>\n",
              "        const buttonEl =\n",
              "          document.querySelector('#df-472fe72d-fcdf-41f9-8738-af5ccaa8d78a button.colab-df-convert');\n",
              "        buttonEl.style.display =\n",
              "          google.colab.kernel.accessAllowed ? 'block' : 'none';\n",
              "\n",
              "        async function convertToInteractive(key) {\n",
              "          const element = document.querySelector('#df-472fe72d-fcdf-41f9-8738-af5ccaa8d78a');\n",
              "          const dataTable =\n",
              "            await google.colab.kernel.invokeFunction('convertToInteractive',\n",
              "                                                     [key], {});\n",
              "          if (!dataTable) return;\n",
              "\n",
              "          const docLinkHtml = 'Like what you see? Visit the ' +\n",
              "            '<a target=\"_blank\" href=https://colab.research.google.com/notebooks/data_table.ipynb>data table notebook</a>'\n",
              "            + ' to learn more about interactive tables.';\n",
              "          element.innerHTML = '';\n",
              "          dataTable['output_type'] = 'display_data';\n",
              "          await google.colab.output.renderOutput(dataTable, element);\n",
              "          const docLink = document.createElement('div');\n",
              "          docLink.innerHTML = docLinkHtml;\n",
              "          element.appendChild(docLink);\n",
              "        }\n",
              "      </script>\n",
              "    </div>\n",
              "  </div>\n",
              "  "
            ]
          },
          "metadata": {},
          "execution_count": 10
        }
      ]
    },
    {
      "cell_type": "code",
      "source": [
        "df.isnull().sum()"
      ],
      "metadata": {
        "colab": {
          "base_uri": "https://localhost:8080/"
        },
        "id": "b_rcqEJl6Pj3",
        "outputId": "c1987cab-5799-4006-a250-f73bfa818aaf"
      },
      "execution_count": null,
      "outputs": [
        {
          "output_type": "execute_result",
          "data": {
            "text/plain": [
              "State_Name          0\n",
              "District_Name       0\n",
              "Crop_Year           1\n",
              "Season              1\n",
              "Crop                1\n",
              "Area                1\n",
              "Production       3601\n",
              "dtype: int64"
            ]
          },
          "metadata": {},
          "execution_count": 11
        }
      ]
    },
    {
      "cell_type": "code",
      "source": [
        "df.dropna(inplace=True)"
      ],
      "metadata": {
        "id": "lu-v72OH7PZF"
      },
      "execution_count": null,
      "outputs": []
    },
    {
      "cell_type": "code",
      "source": [
        "df = df[df['Production'] !=0]"
      ],
      "metadata": {
        "id": "l8jiNmqE7XiE"
      },
      "execution_count": null,
      "outputs": []
    },
    {
      "cell_type": "markdown",
      "source": [
        "**Null Value Removed**"
      ],
      "metadata": {
        "id": "Q2TNL2LV7hts"
      }
    },
    {
      "cell_type": "code",
      "source": [
        "df.info()"
      ],
      "metadata": {
        "colab": {
          "base_uri": "https://localhost:8080/"
        },
        "id": "D8IKpX9-7ciL",
        "outputId": "49c0db6e-ab7a-40a1-9b52-2e0ddaab2c00"
      },
      "execution_count": null,
      "outputs": [
        {
          "output_type": "stream",
          "name": "stdout",
          "text": [
            "<class 'pandas.core.frame.DataFrame'>\n",
            "Int64Index: 213266 entries, 0 to 220382\n",
            "Data columns (total 7 columns):\n",
            " #   Column         Non-Null Count   Dtype  \n",
            "---  ------         --------------   -----  \n",
            " 0   State_Name     213266 non-null  object \n",
            " 1   District_Name  213266 non-null  object \n",
            " 2   Crop_Year      213266 non-null  float64\n",
            " 3   Season         213266 non-null  object \n",
            " 4   Crop           213266 non-null  object \n",
            " 5   Area           213266 non-null  float64\n",
            " 6   Production     213266 non-null  float64\n",
            "dtypes: float64(3), object(4)\n",
            "memory usage: 13.0+ MB\n"
          ]
        }
      ]
    },
    {
      "cell_type": "code",
      "source": [
        "df['Crop_Year'].unique()"
      ],
      "metadata": {
        "colab": {
          "base_uri": "https://localhost:8080/"
        },
        "id": "8_OIpdLM8VM0",
        "outputId": "22454ea5-afe0-4909-de02-e27887c8744b"
      },
      "execution_count": null,
      "outputs": [
        {
          "output_type": "execute_result",
          "data": {
            "text/plain": [
              "array([2000., 2001., 2002., 2003., 2004., 2005., 2006., 2010., 1997.,\n",
              "       1998., 1999., 2007., 2008., 2009., 2011., 2012., 2013., 2014.,\n",
              "       2015.])"
            ]
          },
          "metadata": {},
          "execution_count": 20
        }
      ]
    },
    {
      "cell_type": "markdown",
      "source": [
        "**The Data has been collected from 1997-2015**"
      ],
      "metadata": {
        "id": "X7iaBhnh8_hs"
      }
    },
    {
      "cell_type": "code",
      "source": [
        "df['State_Name'].unique() "
      ],
      "metadata": {
        "colab": {
          "base_uri": "https://localhost:8080/"
        },
        "id": "U20CRP3889NF",
        "outputId": "26686bcc-abea-4f00-f6fc-cdbf24198012"
      },
      "execution_count": null,
      "outputs": [
        {
          "output_type": "execute_result",
          "data": {
            "text/plain": [
              "array(['Andaman and Nicobar Islands', 'Andhra Pradesh',\n",
              "       'Arunachal Pradesh', 'Assam', 'Bihar', 'Chandigarh',\n",
              "       'Chhattisgarh', 'Dadra and Nagar Haveli', 'Goa', 'Gujarat',\n",
              "       'Haryana', 'Himachal Pradesh', 'Jammu and Kashmir ', 'Jharkhand',\n",
              "       'Karnataka', 'Kerala', 'Madhya Pradesh', 'Maharashtra', 'Manipur',\n",
              "       'Meghalaya', 'Mizoram', 'Nagaland', 'Odisha', 'Puducherry',\n",
              "       'Punjab', 'Rajasthan', 'Sikkim', 'Tamil Nadu', 'Telangana ',\n",
              "       'Tripura', 'Uttar Pradesh'], dtype=object)"
            ]
          },
          "metadata": {},
          "execution_count": 21
        }
      ]
    },
    {
      "cell_type": "code",
      "source": [
        "df['District_Name'].nunique()"
      ],
      "metadata": {
        "colab": {
          "base_uri": "https://localhost:8080/"
        },
        "id": "lRWnUzJk9OW0",
        "outputId": "542834d5-ea78-44e5-8bda-d120e0d30c73"
      },
      "execution_count": null,
      "outputs": [
        {
          "output_type": "execute_result",
          "data": {
            "text/plain": [
              "591"
            ]
          },
          "metadata": {},
          "execution_count": 22
        }
      ]
    },
    {
      "cell_type": "code",
      "source": [
        "pd.set_option('display.float_format', lambda x: '%.2f' % x)\n",
        "df['Production'].sort_values(ascending = False)"
      ],
      "metadata": {
        "colab": {
          "base_uri": "https://localhost:8080/"
        },
        "id": "eCWwjCz09UWM",
        "outputId": "0a10253b-6ecb-4acc-ed64-3f697567f170"
      },
      "execution_count": null,
      "outputs": [
        {
          "output_type": "execute_result",
          "data": {
            "text/plain": [
              "178273   1250800000.00\n",
              "178331   1212000000.00\n",
              "100654   1125000000.00\n",
              "100612   1063000000.00\n",
              "100149   1059000000.00\n",
              "              ...     \n",
              "122293            0.01\n",
              "110302            0.01\n",
              "122317            0.01\n",
              "115238            0.01\n",
              "119440            0.01\n",
              "Name: Production, Length: 213266, dtype: float64"
            ]
          },
          "metadata": {},
          "execution_count": 23
        }
      ]
    },
    {
      "cell_type": "code",
      "source": [
        "df.loc[178273]"
      ],
      "metadata": {
        "colab": {
          "base_uri": "https://localhost:8080/"
        },
        "id": "B1JJ0Qaj9Xtc",
        "outputId": "7d54d9f9-94ff-4619-9d52-dd6d83f3a2e9"
      },
      "execution_count": null,
      "outputs": [
        {
          "output_type": "execute_result",
          "data": {
            "text/plain": [
              "State_Name         Tamil Nadu\n",
              "District_Name      COIMBATORE\n",
              "Crop_Year             2011.00\n",
              "Season            Whole Year \n",
              "Crop                 Coconut \n",
              "Area                 82704.00\n",
              "Production      1250800000.00\n",
              "Name: 178273, dtype: object"
            ]
          },
          "metadata": {},
          "execution_count": 24
        }
      ]
    },
    {
      "cell_type": "code",
      "source": [
        "df[df['Area'] == 82704.00]"
      ],
      "metadata": {
        "colab": {
          "base_uri": "https://localhost:8080/",
          "height": 81
        },
        "id": "CkX48FNy9dQU",
        "outputId": "c1166cef-45cb-4807-f4f9-fa11add6c2ab"
      },
      "execution_count": null,
      "outputs": [
        {
          "output_type": "execute_result",
          "data": {
            "text/plain": [
              "        State_Name District_Name  Crop_Year       Season      Crop     Area  \\\n",
              "178273  Tamil Nadu    COIMBATORE    2011.00  Whole Year   Coconut  82704.00   \n",
              "\n",
              "          Production  \n",
              "178273 1250800000.00  "
            ],
            "text/html": [
              "\n",
              "  <div id=\"df-6b7ae52c-6290-4044-9a18-6ca702828c42\">\n",
              "    <div class=\"colab-df-container\">\n",
              "      <div>\n",
              "<style scoped>\n",
              "    .dataframe tbody tr th:only-of-type {\n",
              "        vertical-align: middle;\n",
              "    }\n",
              "\n",
              "    .dataframe tbody tr th {\n",
              "        vertical-align: top;\n",
              "    }\n",
              "\n",
              "    .dataframe thead th {\n",
              "        text-align: right;\n",
              "    }\n",
              "</style>\n",
              "<table border=\"1\" class=\"dataframe\">\n",
              "  <thead>\n",
              "    <tr style=\"text-align: right;\">\n",
              "      <th></th>\n",
              "      <th>State_Name</th>\n",
              "      <th>District_Name</th>\n",
              "      <th>Crop_Year</th>\n",
              "      <th>Season</th>\n",
              "      <th>Crop</th>\n",
              "      <th>Area</th>\n",
              "      <th>Production</th>\n",
              "    </tr>\n",
              "  </thead>\n",
              "  <tbody>\n",
              "    <tr>\n",
              "      <th>178273</th>\n",
              "      <td>Tamil Nadu</td>\n",
              "      <td>COIMBATORE</td>\n",
              "      <td>2011.00</td>\n",
              "      <td>Whole Year</td>\n",
              "      <td>Coconut</td>\n",
              "      <td>82704.00</td>\n",
              "      <td>1250800000.00</td>\n",
              "    </tr>\n",
              "  </tbody>\n",
              "</table>\n",
              "</div>\n",
              "      <button class=\"colab-df-convert\" onclick=\"convertToInteractive('df-6b7ae52c-6290-4044-9a18-6ca702828c42')\"\n",
              "              title=\"Convert this dataframe to an interactive table.\"\n",
              "              style=\"display:none;\">\n",
              "        \n",
              "  <svg xmlns=\"http://www.w3.org/2000/svg\" height=\"24px\"viewBox=\"0 0 24 24\"\n",
              "       width=\"24px\">\n",
              "    <path d=\"M0 0h24v24H0V0z\" fill=\"none\"/>\n",
              "    <path d=\"M18.56 5.44l.94 2.06.94-2.06 2.06-.94-2.06-.94-.94-2.06-.94 2.06-2.06.94zm-11 1L8.5 8.5l.94-2.06 2.06-.94-2.06-.94L8.5 2.5l-.94 2.06-2.06.94zm10 10l.94 2.06.94-2.06 2.06-.94-2.06-.94-.94-2.06-.94 2.06-2.06.94z\"/><path d=\"M17.41 7.96l-1.37-1.37c-.4-.4-.92-.59-1.43-.59-.52 0-1.04.2-1.43.59L10.3 9.45l-7.72 7.72c-.78.78-.78 2.05 0 2.83L4 21.41c.39.39.9.59 1.41.59.51 0 1.02-.2 1.41-.59l7.78-7.78 2.81-2.81c.8-.78.8-2.07 0-2.86zM5.41 20L4 18.59l7.72-7.72 1.47 1.35L5.41 20z\"/>\n",
              "  </svg>\n",
              "      </button>\n",
              "      \n",
              "  <style>\n",
              "    .colab-df-container {\n",
              "      display:flex;\n",
              "      flex-wrap:wrap;\n",
              "      gap: 12px;\n",
              "    }\n",
              "\n",
              "    .colab-df-convert {\n",
              "      background-color: #E8F0FE;\n",
              "      border: none;\n",
              "      border-radius: 50%;\n",
              "      cursor: pointer;\n",
              "      display: none;\n",
              "      fill: #1967D2;\n",
              "      height: 32px;\n",
              "      padding: 0 0 0 0;\n",
              "      width: 32px;\n",
              "    }\n",
              "\n",
              "    .colab-df-convert:hover {\n",
              "      background-color: #E2EBFA;\n",
              "      box-shadow: 0px 1px 2px rgba(60, 64, 67, 0.3), 0px 1px 3px 1px rgba(60, 64, 67, 0.15);\n",
              "      fill: #174EA6;\n",
              "    }\n",
              "\n",
              "    [theme=dark] .colab-df-convert {\n",
              "      background-color: #3B4455;\n",
              "      fill: #D2E3FC;\n",
              "    }\n",
              "\n",
              "    [theme=dark] .colab-df-convert:hover {\n",
              "      background-color: #434B5C;\n",
              "      box-shadow: 0px 1px 3px 1px rgba(0, 0, 0, 0.15);\n",
              "      filter: drop-shadow(0px 1px 2px rgba(0, 0, 0, 0.3));\n",
              "      fill: #FFFFFF;\n",
              "    }\n",
              "  </style>\n",
              "\n",
              "      <script>\n",
              "        const buttonEl =\n",
              "          document.querySelector('#df-6b7ae52c-6290-4044-9a18-6ca702828c42 button.colab-df-convert');\n",
              "        buttonEl.style.display =\n",
              "          google.colab.kernel.accessAllowed ? 'block' : 'none';\n",
              "\n",
              "        async function convertToInteractive(key) {\n",
              "          const element = document.querySelector('#df-6b7ae52c-6290-4044-9a18-6ca702828c42');\n",
              "          const dataTable =\n",
              "            await google.colab.kernel.invokeFunction('convertToInteractive',\n",
              "                                                     [key], {});\n",
              "          if (!dataTable) return;\n",
              "\n",
              "          const docLinkHtml = 'Like what you see? Visit the ' +\n",
              "            '<a target=\"_blank\" href=https://colab.research.google.com/notebooks/data_table.ipynb>data table notebook</a>'\n",
              "            + ' to learn more about interactive tables.';\n",
              "          element.innerHTML = '';\n",
              "          dataTable['output_type'] = 'display_data';\n",
              "          await google.colab.output.renderOutput(dataTable, element);\n",
              "          const docLink = document.createElement('div');\n",
              "          docLink.innerHTML = docLinkHtml;\n",
              "          element.appendChild(docLink);\n",
              "        }\n",
              "      </script>\n",
              "    </div>\n",
              "  </div>\n",
              "  "
            ]
          },
          "metadata": {},
          "execution_count": 25
        }
      ]
    },
    {
      "cell_type": "code",
      "source": [
        "no_of_diff_crops = df['Crop'].nunique()\n",
        "types_of_crops = df['Crop'].unique()\n",
        "\n",
        "print('There are {} different types of crops'.format(no_of_diff_crops))\n",
        "print('------------------------------------')\n",
        "print('They different types of crops are :-',types_of_crops)"
      ],
      "metadata": {
        "colab": {
          "base_uri": "https://localhost:8080/"
        },
        "id": "xF-jG-O59gfM",
        "outputId": "93d46ccb-3755-488e-9ef6-8e50f14c7ea6"
      },
      "execution_count": null,
      "outputs": [
        {
          "output_type": "stream",
          "name": "stdout",
          "text": [
            "There are 105 different types of crops\n",
            "------------------------------------\n",
            "They different types of crops are :- ['Arecanut' 'Other Kharif pulses' 'Rice' 'Banana' 'Cashewnut' 'Coconut '\n",
            " 'Dry ginger' 'Sugarcane' 'Sweet potato' 'Tapioca' 'Black pepper'\n",
            " 'Dry chillies' 'other oilseeds' 'Turmeric' 'Maize' 'Moong(Green Gram)'\n",
            " 'Urad' 'Arhar/Tur' 'Groundnut' 'Sunflower' 'Bajra' 'Castor seed'\n",
            " 'Cotton(lint)' 'Horse-gram' 'Jowar' 'Korra' 'Ragi' 'Tobacco' 'Gram'\n",
            " 'Wheat' 'Masoor' 'Sesamum' 'Linseed' 'Safflower' 'Onion'\n",
            " 'other misc. pulses' 'Samai' 'Small millets' 'Coriander' 'Potato'\n",
            " 'Other  Rabi pulses' 'Beans & Mutter(Vegetable)' 'Bhindi' 'Brinjal'\n",
            " 'Citrus Fruit' 'Grapes' 'Mango' 'Orange' 'Other Fresh Fruits' 'Papaya'\n",
            " 'Pome Fruit' 'Tomato' 'Soyabean' 'Mesta' 'Cowpea(Lobia)' 'Lemon'\n",
            " 'Pome Granet' 'Sapota' 'Cabbage' 'Rapeseed &Mustard' 'Niger seed'\n",
            " 'Varagu' 'Garlic' 'Ginger' 'Oilseeds total' 'Pulses total' 'Jute'\n",
            " 'Peas & beans (Pulses)' 'Blackgram' 'Paddy' 'Pineapple' 'Barley'\n",
            " 'Sannhamp' 'Khesari' 'Guar seed' 'Other Vegetables' 'Moth'\n",
            " 'Other Cereals & Millets' 'Cond-spcs other' 'Turnip' 'Carrot' 'Redish'\n",
            " 'Arcanut (Processed)' 'Atcanut (Raw)' 'Cashewnut Processed'\n",
            " 'Cashewnut Raw' 'Cardamom' 'Rubber' 'Drum Stick' 'Jack Fruit' 'Tea'\n",
            " 'Coffee' 'Total foodgrain' 'Cauliflower' 'Bitter Gourd' 'Bottle Gourd'\n",
            " 'Kapas' 'Colocosia' 'Lentil' 'Bean' 'Jobster' 'Perilla' 'Rajmash Kholar'\n",
            " 'Ricebean (nagadal)' 'Jute & mesta']\n"
          ]
        }
      ]
    },
    {
      "cell_type": "code",
      "source": [
        "df['Season'].value_counts()"
      ],
      "metadata": {
        "colab": {
          "base_uri": "https://localhost:8080/"
        },
        "id": "Ro3KmKuW9lzE",
        "outputId": "54dc31b7-31fe-4d53-de9b-a2481e09d17e"
      },
      "execution_count": null,
      "outputs": [
        {
          "output_type": "execute_result",
          "data": {
            "text/plain": [
              "Kharif         84337\n",
              "Rabi           56909\n",
              "Whole Year     49925\n",
              "Summer         12223\n",
              "Winter          5592\n",
              "Autumn          4280\n",
              "Name: Season, dtype: int64"
            ]
          },
          "metadata": {},
          "execution_count": 27
        }
      ]
    },
    {
      "cell_type": "markdown",
      "source": [
        "**Creating Linear regression model**"
      ],
      "metadata": {
        "id": "j47CHC7oFYJV"
      }
    },
    {
      "cell_type": "code",
      "source": [
        "crop_data = pd.get_dummies(data=df)"
      ],
      "metadata": {
        "id": "aoeBTu9AFaEs"
      },
      "execution_count": null,
      "outputs": []
    },
    {
      "cell_type": "code",
      "source": [
        "crop_data.head()"
      ],
      "metadata": {
        "colab": {
          "base_uri": "https://localhost:8080/",
          "height": 334
        },
        "id": "jMuMX4zkFdRW",
        "outputId": "8452a1b7-7e61-41a5-c046-5e7ba8840767"
      },
      "execution_count": null,
      "outputs": [
        {
          "output_type": "execute_result",
          "data": {
            "text/plain": [
              "   Crop_Year    Area  Production  State_Name_Andaman and Nicobar Islands  \\\n",
              "0    2000.00 1254.00     2000.00                                       1   \n",
              "1    2000.00    2.00        1.00                                       1   \n",
              "2    2000.00  102.00      321.00                                       1   \n",
              "3    2000.00  176.00      641.00                                       1   \n",
              "4    2000.00  720.00      165.00                                       1   \n",
              "\n",
              "   State_Name_Andhra Pradesh  State_Name_Arunachal Pradesh  State_Name_Assam  \\\n",
              "0                          0                             0                 0   \n",
              "1                          0                             0                 0   \n",
              "2                          0                             0                 0   \n",
              "3                          0                             0                 0   \n",
              "4                          0                             0                 0   \n",
              "\n",
              "   State_Name_Bihar  State_Name_Chandigarh  State_Name_Chhattisgarh  ...  \\\n",
              "0                 0                      0                        0  ...   \n",
              "1                 0                      0                        0  ...   \n",
              "2                 0                      0                        0  ...   \n",
              "3                 0                      0                        0  ...   \n",
              "4                 0                      0                        0  ...   \n",
              "\n",
              "   Crop_Tobacco  Crop_Tomato  Crop_Total foodgrain  Crop_Turmeric  \\\n",
              "0             0            0                     0              0   \n",
              "1             0            0                     0              0   \n",
              "2             0            0                     0              0   \n",
              "3             0            0                     0              0   \n",
              "4             0            0                     0              0   \n",
              "\n",
              "   Crop_Turnip  Crop_Urad  Crop_Varagu  Crop_Wheat  Crop_other misc. pulses  \\\n",
              "0            0          0            0           0                        0   \n",
              "1            0          0            0           0                        0   \n",
              "2            0          0            0           0                        0   \n",
              "3            0          0            0           0                        0   \n",
              "4            0          0            0           0                        0   \n",
              "\n",
              "   Crop_other oilseeds  \n",
              "0                    0  \n",
              "1                    0  \n",
              "2                    0  \n",
              "3                    0  \n",
              "4                    0  \n",
              "\n",
              "[5 rows x 736 columns]"
            ],
            "text/html": [
              "\n",
              "  <div id=\"df-a9dd9b71-44ac-4991-8033-792b38074151\">\n",
              "    <div class=\"colab-df-container\">\n",
              "      <div>\n",
              "<style scoped>\n",
              "    .dataframe tbody tr th:only-of-type {\n",
              "        vertical-align: middle;\n",
              "    }\n",
              "\n",
              "    .dataframe tbody tr th {\n",
              "        vertical-align: top;\n",
              "    }\n",
              "\n",
              "    .dataframe thead th {\n",
              "        text-align: right;\n",
              "    }\n",
              "</style>\n",
              "<table border=\"1\" class=\"dataframe\">\n",
              "  <thead>\n",
              "    <tr style=\"text-align: right;\">\n",
              "      <th></th>\n",
              "      <th>Crop_Year</th>\n",
              "      <th>Area</th>\n",
              "      <th>Production</th>\n",
              "      <th>State_Name_Andaman and Nicobar Islands</th>\n",
              "      <th>State_Name_Andhra Pradesh</th>\n",
              "      <th>State_Name_Arunachal Pradesh</th>\n",
              "      <th>State_Name_Assam</th>\n",
              "      <th>State_Name_Bihar</th>\n",
              "      <th>State_Name_Chandigarh</th>\n",
              "      <th>State_Name_Chhattisgarh</th>\n",
              "      <th>...</th>\n",
              "      <th>Crop_Tobacco</th>\n",
              "      <th>Crop_Tomato</th>\n",
              "      <th>Crop_Total foodgrain</th>\n",
              "      <th>Crop_Turmeric</th>\n",
              "      <th>Crop_Turnip</th>\n",
              "      <th>Crop_Urad</th>\n",
              "      <th>Crop_Varagu</th>\n",
              "      <th>Crop_Wheat</th>\n",
              "      <th>Crop_other misc. pulses</th>\n",
              "      <th>Crop_other oilseeds</th>\n",
              "    </tr>\n",
              "  </thead>\n",
              "  <tbody>\n",
              "    <tr>\n",
              "      <th>0</th>\n",
              "      <td>2000.00</td>\n",
              "      <td>1254.00</td>\n",
              "      <td>2000.00</td>\n",
              "      <td>1</td>\n",
              "      <td>0</td>\n",
              "      <td>0</td>\n",
              "      <td>0</td>\n",
              "      <td>0</td>\n",
              "      <td>0</td>\n",
              "      <td>0</td>\n",
              "      <td>...</td>\n",
              "      <td>0</td>\n",
              "      <td>0</td>\n",
              "      <td>0</td>\n",
              "      <td>0</td>\n",
              "      <td>0</td>\n",
              "      <td>0</td>\n",
              "      <td>0</td>\n",
              "      <td>0</td>\n",
              "      <td>0</td>\n",
              "      <td>0</td>\n",
              "    </tr>\n",
              "    <tr>\n",
              "      <th>1</th>\n",
              "      <td>2000.00</td>\n",
              "      <td>2.00</td>\n",
              "      <td>1.00</td>\n",
              "      <td>1</td>\n",
              "      <td>0</td>\n",
              "      <td>0</td>\n",
              "      <td>0</td>\n",
              "      <td>0</td>\n",
              "      <td>0</td>\n",
              "      <td>0</td>\n",
              "      <td>...</td>\n",
              "      <td>0</td>\n",
              "      <td>0</td>\n",
              "      <td>0</td>\n",
              "      <td>0</td>\n",
              "      <td>0</td>\n",
              "      <td>0</td>\n",
              "      <td>0</td>\n",
              "      <td>0</td>\n",
              "      <td>0</td>\n",
              "      <td>0</td>\n",
              "    </tr>\n",
              "    <tr>\n",
              "      <th>2</th>\n",
              "      <td>2000.00</td>\n",
              "      <td>102.00</td>\n",
              "      <td>321.00</td>\n",
              "      <td>1</td>\n",
              "      <td>0</td>\n",
              "      <td>0</td>\n",
              "      <td>0</td>\n",
              "      <td>0</td>\n",
              "      <td>0</td>\n",
              "      <td>0</td>\n",
              "      <td>...</td>\n",
              "      <td>0</td>\n",
              "      <td>0</td>\n",
              "      <td>0</td>\n",
              "      <td>0</td>\n",
              "      <td>0</td>\n",
              "      <td>0</td>\n",
              "      <td>0</td>\n",
              "      <td>0</td>\n",
              "      <td>0</td>\n",
              "      <td>0</td>\n",
              "    </tr>\n",
              "    <tr>\n",
              "      <th>3</th>\n",
              "      <td>2000.00</td>\n",
              "      <td>176.00</td>\n",
              "      <td>641.00</td>\n",
              "      <td>1</td>\n",
              "      <td>0</td>\n",
              "      <td>0</td>\n",
              "      <td>0</td>\n",
              "      <td>0</td>\n",
              "      <td>0</td>\n",
              "      <td>0</td>\n",
              "      <td>...</td>\n",
              "      <td>0</td>\n",
              "      <td>0</td>\n",
              "      <td>0</td>\n",
              "      <td>0</td>\n",
              "      <td>0</td>\n",
              "      <td>0</td>\n",
              "      <td>0</td>\n",
              "      <td>0</td>\n",
              "      <td>0</td>\n",
              "      <td>0</td>\n",
              "    </tr>\n",
              "    <tr>\n",
              "      <th>4</th>\n",
              "      <td>2000.00</td>\n",
              "      <td>720.00</td>\n",
              "      <td>165.00</td>\n",
              "      <td>1</td>\n",
              "      <td>0</td>\n",
              "      <td>0</td>\n",
              "      <td>0</td>\n",
              "      <td>0</td>\n",
              "      <td>0</td>\n",
              "      <td>0</td>\n",
              "      <td>...</td>\n",
              "      <td>0</td>\n",
              "      <td>0</td>\n",
              "      <td>0</td>\n",
              "      <td>0</td>\n",
              "      <td>0</td>\n",
              "      <td>0</td>\n",
              "      <td>0</td>\n",
              "      <td>0</td>\n",
              "      <td>0</td>\n",
              "      <td>0</td>\n",
              "    </tr>\n",
              "  </tbody>\n",
              "</table>\n",
              "<p>5 rows × 736 columns</p>\n",
              "</div>\n",
              "      <button class=\"colab-df-convert\" onclick=\"convertToInteractive('df-a9dd9b71-44ac-4991-8033-792b38074151')\"\n",
              "              title=\"Convert this dataframe to an interactive table.\"\n",
              "              style=\"display:none;\">\n",
              "        \n",
              "  <svg xmlns=\"http://www.w3.org/2000/svg\" height=\"24px\"viewBox=\"0 0 24 24\"\n",
              "       width=\"24px\">\n",
              "    <path d=\"M0 0h24v24H0V0z\" fill=\"none\"/>\n",
              "    <path d=\"M18.56 5.44l.94 2.06.94-2.06 2.06-.94-2.06-.94-.94-2.06-.94 2.06-2.06.94zm-11 1L8.5 8.5l.94-2.06 2.06-.94-2.06-.94L8.5 2.5l-.94 2.06-2.06.94zm10 10l.94 2.06.94-2.06 2.06-.94-2.06-.94-.94-2.06-.94 2.06-2.06.94z\"/><path d=\"M17.41 7.96l-1.37-1.37c-.4-.4-.92-.59-1.43-.59-.52 0-1.04.2-1.43.59L10.3 9.45l-7.72 7.72c-.78.78-.78 2.05 0 2.83L4 21.41c.39.39.9.59 1.41.59.51 0 1.02-.2 1.41-.59l7.78-7.78 2.81-2.81c.8-.78.8-2.07 0-2.86zM5.41 20L4 18.59l7.72-7.72 1.47 1.35L5.41 20z\"/>\n",
              "  </svg>\n",
              "      </button>\n",
              "      \n",
              "  <style>\n",
              "    .colab-df-container {\n",
              "      display:flex;\n",
              "      flex-wrap:wrap;\n",
              "      gap: 12px;\n",
              "    }\n",
              "\n",
              "    .colab-df-convert {\n",
              "      background-color: #E8F0FE;\n",
              "      border: none;\n",
              "      border-radius: 50%;\n",
              "      cursor: pointer;\n",
              "      display: none;\n",
              "      fill: #1967D2;\n",
              "      height: 32px;\n",
              "      padding: 0 0 0 0;\n",
              "      width: 32px;\n",
              "    }\n",
              "\n",
              "    .colab-df-convert:hover {\n",
              "      background-color: #E2EBFA;\n",
              "      box-shadow: 0px 1px 2px rgba(60, 64, 67, 0.3), 0px 1px 3px 1px rgba(60, 64, 67, 0.15);\n",
              "      fill: #174EA6;\n",
              "    }\n",
              "\n",
              "    [theme=dark] .colab-df-convert {\n",
              "      background-color: #3B4455;\n",
              "      fill: #D2E3FC;\n",
              "    }\n",
              "\n",
              "    [theme=dark] .colab-df-convert:hover {\n",
              "      background-color: #434B5C;\n",
              "      box-shadow: 0px 1px 3px 1px rgba(0, 0, 0, 0.15);\n",
              "      filter: drop-shadow(0px 1px 2px rgba(0, 0, 0, 0.3));\n",
              "      fill: #FFFFFF;\n",
              "    }\n",
              "  </style>\n",
              "\n",
              "      <script>\n",
              "        const buttonEl =\n",
              "          document.querySelector('#df-a9dd9b71-44ac-4991-8033-792b38074151 button.colab-df-convert');\n",
              "        buttonEl.style.display =\n",
              "          google.colab.kernel.accessAllowed ? 'block' : 'none';\n",
              "\n",
              "        async function convertToInteractive(key) {\n",
              "          const element = document.querySelector('#df-a9dd9b71-44ac-4991-8033-792b38074151');\n",
              "          const dataTable =\n",
              "            await google.colab.kernel.invokeFunction('convertToInteractive',\n",
              "                                                     [key], {});\n",
              "          if (!dataTable) return;\n",
              "\n",
              "          const docLinkHtml = 'Like what you see? Visit the ' +\n",
              "            '<a target=\"_blank\" href=https://colab.research.google.com/notebooks/data_table.ipynb>data table notebook</a>'\n",
              "            + ' to learn more about interactive tables.';\n",
              "          element.innerHTML = '';\n",
              "          dataTable['output_type'] = 'display_data';\n",
              "          await google.colab.output.renderOutput(dataTable, element);\n",
              "          const docLink = document.createElement('div');\n",
              "          docLink.innerHTML = docLinkHtml;\n",
              "          element.appendChild(docLink);\n",
              "        }\n",
              "      </script>\n",
              "    </div>\n",
              "  </div>\n",
              "  "
            ]
          },
          "metadata": {},
          "execution_count": 69
        }
      ]
    },
    {
      "cell_type": "markdown",
      "source": [
        "**Dividing data into Training and testing data**\n"
      ],
      "metadata": {
        "id": "2TkZkJfOFkFV"
      }
    },
    {
      "cell_type": "code",
      "source": [
        "from sklearn.model_selection import train_test_split"
      ],
      "metadata": {
        "id": "CUDKKJumFouG"
      },
      "execution_count": null,
      "outputs": []
    },
    {
      "cell_type": "code",
      "source": [
        "X = crop_data.drop('Production',axis=1)\n",
        "X.head()"
      ],
      "metadata": {
        "colab": {
          "base_uri": "https://localhost:8080/",
          "height": 334
        },
        "id": "ux5m-gYbFzrM",
        "outputId": "cd1501f4-dd59-4e23-ff52-25aa681e9e54"
      },
      "execution_count": null,
      "outputs": [
        {
          "output_type": "execute_result",
          "data": {
            "text/plain": [
              "   Crop_Year    Area  State_Name_Andaman and Nicobar Islands  \\\n",
              "0    2000.00 1254.00                                       1   \n",
              "1    2000.00    2.00                                       1   \n",
              "2    2000.00  102.00                                       1   \n",
              "3    2000.00  176.00                                       1   \n",
              "4    2000.00  720.00                                       1   \n",
              "\n",
              "   State_Name_Andhra Pradesh  State_Name_Arunachal Pradesh  State_Name_Assam  \\\n",
              "0                          0                             0                 0   \n",
              "1                          0                             0                 0   \n",
              "2                          0                             0                 0   \n",
              "3                          0                             0                 0   \n",
              "4                          0                             0                 0   \n",
              "\n",
              "   State_Name_Bihar  State_Name_Chandigarh  State_Name_Chhattisgarh  \\\n",
              "0                 0                      0                        0   \n",
              "1                 0                      0                        0   \n",
              "2                 0                      0                        0   \n",
              "3                 0                      0                        0   \n",
              "4                 0                      0                        0   \n",
              "\n",
              "   State_Name_Dadra and Nagar Haveli  ...  Crop_Tobacco  Crop_Tomato  \\\n",
              "0                                  0  ...             0            0   \n",
              "1                                  0  ...             0            0   \n",
              "2                                  0  ...             0            0   \n",
              "3                                  0  ...             0            0   \n",
              "4                                  0  ...             0            0   \n",
              "\n",
              "   Crop_Total foodgrain  Crop_Turmeric  Crop_Turnip  Crop_Urad  Crop_Varagu  \\\n",
              "0                     0              0            0          0            0   \n",
              "1                     0              0            0          0            0   \n",
              "2                     0              0            0          0            0   \n",
              "3                     0              0            0          0            0   \n",
              "4                     0              0            0          0            0   \n",
              "\n",
              "   Crop_Wheat  Crop_other misc. pulses  Crop_other oilseeds  \n",
              "0           0                        0                    0  \n",
              "1           0                        0                    0  \n",
              "2           0                        0                    0  \n",
              "3           0                        0                    0  \n",
              "4           0                        0                    0  \n",
              "\n",
              "[5 rows x 735 columns]"
            ],
            "text/html": [
              "\n",
              "  <div id=\"df-3c234ccb-32e1-4546-96d9-89ffc664c2cd\">\n",
              "    <div class=\"colab-df-container\">\n",
              "      <div>\n",
              "<style scoped>\n",
              "    .dataframe tbody tr th:only-of-type {\n",
              "        vertical-align: middle;\n",
              "    }\n",
              "\n",
              "    .dataframe tbody tr th {\n",
              "        vertical-align: top;\n",
              "    }\n",
              "\n",
              "    .dataframe thead th {\n",
              "        text-align: right;\n",
              "    }\n",
              "</style>\n",
              "<table border=\"1\" class=\"dataframe\">\n",
              "  <thead>\n",
              "    <tr style=\"text-align: right;\">\n",
              "      <th></th>\n",
              "      <th>Crop_Year</th>\n",
              "      <th>Area</th>\n",
              "      <th>State_Name_Andaman and Nicobar Islands</th>\n",
              "      <th>State_Name_Andhra Pradesh</th>\n",
              "      <th>State_Name_Arunachal Pradesh</th>\n",
              "      <th>State_Name_Assam</th>\n",
              "      <th>State_Name_Bihar</th>\n",
              "      <th>State_Name_Chandigarh</th>\n",
              "      <th>State_Name_Chhattisgarh</th>\n",
              "      <th>State_Name_Dadra and Nagar Haveli</th>\n",
              "      <th>...</th>\n",
              "      <th>Crop_Tobacco</th>\n",
              "      <th>Crop_Tomato</th>\n",
              "      <th>Crop_Total foodgrain</th>\n",
              "      <th>Crop_Turmeric</th>\n",
              "      <th>Crop_Turnip</th>\n",
              "      <th>Crop_Urad</th>\n",
              "      <th>Crop_Varagu</th>\n",
              "      <th>Crop_Wheat</th>\n",
              "      <th>Crop_other misc. pulses</th>\n",
              "      <th>Crop_other oilseeds</th>\n",
              "    </tr>\n",
              "  </thead>\n",
              "  <tbody>\n",
              "    <tr>\n",
              "      <th>0</th>\n",
              "      <td>2000.00</td>\n",
              "      <td>1254.00</td>\n",
              "      <td>1</td>\n",
              "      <td>0</td>\n",
              "      <td>0</td>\n",
              "      <td>0</td>\n",
              "      <td>0</td>\n",
              "      <td>0</td>\n",
              "      <td>0</td>\n",
              "      <td>0</td>\n",
              "      <td>...</td>\n",
              "      <td>0</td>\n",
              "      <td>0</td>\n",
              "      <td>0</td>\n",
              "      <td>0</td>\n",
              "      <td>0</td>\n",
              "      <td>0</td>\n",
              "      <td>0</td>\n",
              "      <td>0</td>\n",
              "      <td>0</td>\n",
              "      <td>0</td>\n",
              "    </tr>\n",
              "    <tr>\n",
              "      <th>1</th>\n",
              "      <td>2000.00</td>\n",
              "      <td>2.00</td>\n",
              "      <td>1</td>\n",
              "      <td>0</td>\n",
              "      <td>0</td>\n",
              "      <td>0</td>\n",
              "      <td>0</td>\n",
              "      <td>0</td>\n",
              "      <td>0</td>\n",
              "      <td>0</td>\n",
              "      <td>...</td>\n",
              "      <td>0</td>\n",
              "      <td>0</td>\n",
              "      <td>0</td>\n",
              "      <td>0</td>\n",
              "      <td>0</td>\n",
              "      <td>0</td>\n",
              "      <td>0</td>\n",
              "      <td>0</td>\n",
              "      <td>0</td>\n",
              "      <td>0</td>\n",
              "    </tr>\n",
              "    <tr>\n",
              "      <th>2</th>\n",
              "      <td>2000.00</td>\n",
              "      <td>102.00</td>\n",
              "      <td>1</td>\n",
              "      <td>0</td>\n",
              "      <td>0</td>\n",
              "      <td>0</td>\n",
              "      <td>0</td>\n",
              "      <td>0</td>\n",
              "      <td>0</td>\n",
              "      <td>0</td>\n",
              "      <td>...</td>\n",
              "      <td>0</td>\n",
              "      <td>0</td>\n",
              "      <td>0</td>\n",
              "      <td>0</td>\n",
              "      <td>0</td>\n",
              "      <td>0</td>\n",
              "      <td>0</td>\n",
              "      <td>0</td>\n",
              "      <td>0</td>\n",
              "      <td>0</td>\n",
              "    </tr>\n",
              "    <tr>\n",
              "      <th>3</th>\n",
              "      <td>2000.00</td>\n",
              "      <td>176.00</td>\n",
              "      <td>1</td>\n",
              "      <td>0</td>\n",
              "      <td>0</td>\n",
              "      <td>0</td>\n",
              "      <td>0</td>\n",
              "      <td>0</td>\n",
              "      <td>0</td>\n",
              "      <td>0</td>\n",
              "      <td>...</td>\n",
              "      <td>0</td>\n",
              "      <td>0</td>\n",
              "      <td>0</td>\n",
              "      <td>0</td>\n",
              "      <td>0</td>\n",
              "      <td>0</td>\n",
              "      <td>0</td>\n",
              "      <td>0</td>\n",
              "      <td>0</td>\n",
              "      <td>0</td>\n",
              "    </tr>\n",
              "    <tr>\n",
              "      <th>4</th>\n",
              "      <td>2000.00</td>\n",
              "      <td>720.00</td>\n",
              "      <td>1</td>\n",
              "      <td>0</td>\n",
              "      <td>0</td>\n",
              "      <td>0</td>\n",
              "      <td>0</td>\n",
              "      <td>0</td>\n",
              "      <td>0</td>\n",
              "      <td>0</td>\n",
              "      <td>...</td>\n",
              "      <td>0</td>\n",
              "      <td>0</td>\n",
              "      <td>0</td>\n",
              "      <td>0</td>\n",
              "      <td>0</td>\n",
              "      <td>0</td>\n",
              "      <td>0</td>\n",
              "      <td>0</td>\n",
              "      <td>0</td>\n",
              "      <td>0</td>\n",
              "    </tr>\n",
              "  </tbody>\n",
              "</table>\n",
              "<p>5 rows × 735 columns</p>\n",
              "</div>\n",
              "      <button class=\"colab-df-convert\" onclick=\"convertToInteractive('df-3c234ccb-32e1-4546-96d9-89ffc664c2cd')\"\n",
              "              title=\"Convert this dataframe to an interactive table.\"\n",
              "              style=\"display:none;\">\n",
              "        \n",
              "  <svg xmlns=\"http://www.w3.org/2000/svg\" height=\"24px\"viewBox=\"0 0 24 24\"\n",
              "       width=\"24px\">\n",
              "    <path d=\"M0 0h24v24H0V0z\" fill=\"none\"/>\n",
              "    <path d=\"M18.56 5.44l.94 2.06.94-2.06 2.06-.94-2.06-.94-.94-2.06-.94 2.06-2.06.94zm-11 1L8.5 8.5l.94-2.06 2.06-.94-2.06-.94L8.5 2.5l-.94 2.06-2.06.94zm10 10l.94 2.06.94-2.06 2.06-.94-2.06-.94-.94-2.06-.94 2.06-2.06.94z\"/><path d=\"M17.41 7.96l-1.37-1.37c-.4-.4-.92-.59-1.43-.59-.52 0-1.04.2-1.43.59L10.3 9.45l-7.72 7.72c-.78.78-.78 2.05 0 2.83L4 21.41c.39.39.9.59 1.41.59.51 0 1.02-.2 1.41-.59l7.78-7.78 2.81-2.81c.8-.78.8-2.07 0-2.86zM5.41 20L4 18.59l7.72-7.72 1.47 1.35L5.41 20z\"/>\n",
              "  </svg>\n",
              "      </button>\n",
              "      \n",
              "  <style>\n",
              "    .colab-df-container {\n",
              "      display:flex;\n",
              "      flex-wrap:wrap;\n",
              "      gap: 12px;\n",
              "    }\n",
              "\n",
              "    .colab-df-convert {\n",
              "      background-color: #E8F0FE;\n",
              "      border: none;\n",
              "      border-radius: 50%;\n",
              "      cursor: pointer;\n",
              "      display: none;\n",
              "      fill: #1967D2;\n",
              "      height: 32px;\n",
              "      padding: 0 0 0 0;\n",
              "      width: 32px;\n",
              "    }\n",
              "\n",
              "    .colab-df-convert:hover {\n",
              "      background-color: #E2EBFA;\n",
              "      box-shadow: 0px 1px 2px rgba(60, 64, 67, 0.3), 0px 1px 3px 1px rgba(60, 64, 67, 0.15);\n",
              "      fill: #174EA6;\n",
              "    }\n",
              "\n",
              "    [theme=dark] .colab-df-convert {\n",
              "      background-color: #3B4455;\n",
              "      fill: #D2E3FC;\n",
              "    }\n",
              "\n",
              "    [theme=dark] .colab-df-convert:hover {\n",
              "      background-color: #434B5C;\n",
              "      box-shadow: 0px 1px 3px 1px rgba(0, 0, 0, 0.15);\n",
              "      filter: drop-shadow(0px 1px 2px rgba(0, 0, 0, 0.3));\n",
              "      fill: #FFFFFF;\n",
              "    }\n",
              "  </style>\n",
              "\n",
              "      <script>\n",
              "        const buttonEl =\n",
              "          document.querySelector('#df-3c234ccb-32e1-4546-96d9-89ffc664c2cd button.colab-df-convert');\n",
              "        buttonEl.style.display =\n",
              "          google.colab.kernel.accessAllowed ? 'block' : 'none';\n",
              "\n",
              "        async function convertToInteractive(key) {\n",
              "          const element = document.querySelector('#df-3c234ccb-32e1-4546-96d9-89ffc664c2cd');\n",
              "          const dataTable =\n",
              "            await google.colab.kernel.invokeFunction('convertToInteractive',\n",
              "                                                     [key], {});\n",
              "          if (!dataTable) return;\n",
              "\n",
              "          const docLinkHtml = 'Like what you see? Visit the ' +\n",
              "            '<a target=\"_blank\" href=https://colab.research.google.com/notebooks/data_table.ipynb>data table notebook</a>'\n",
              "            + ' to learn more about interactive tables.';\n",
              "          element.innerHTML = '';\n",
              "          dataTable['output_type'] = 'display_data';\n",
              "          await google.colab.output.renderOutput(dataTable, element);\n",
              "          const docLink = document.createElement('div');\n",
              "          docLink.innerHTML = docLinkHtml;\n",
              "          element.appendChild(docLink);\n",
              "        }\n",
              "      </script>\n",
              "    </div>\n",
              "  </div>\n",
              "  "
            ]
          },
          "metadata": {},
          "execution_count": 71
        }
      ]
    },
    {
      "cell_type": "code",
      "source": [
        "y = crop_data['Production']\n",
        "y.head()"
      ],
      "metadata": {
        "colab": {
          "base_uri": "https://localhost:8080/"
        },
        "id": "2HWpkbl1F252",
        "outputId": "211db63d-2ce2-475e-9050-e8b82b7ecba5"
      },
      "execution_count": null,
      "outputs": [
        {
          "output_type": "execute_result",
          "data": {
            "text/plain": [
              "0   2000.00\n",
              "1      1.00\n",
              "2    321.00\n",
              "3    641.00\n",
              "4    165.00\n",
              "Name: Production, dtype: float64"
            ]
          },
          "metadata": {},
          "execution_count": 72
        }
      ]
    },
    {
      "cell_type": "code",
      "source": [
        "X_train, X_test, y_train, y_test = train_test_split( X, y, test_size=0.33, random_state=42)"
      ],
      "metadata": {
        "id": "jT8RpeqvF55n"
      },
      "execution_count": null,
      "outputs": []
    },
    {
      "cell_type": "code",
      "source": [
        "\n",
        "X_test.shape"
      ],
      "metadata": {
        "colab": {
          "base_uri": "https://localhost:8080/"
        },
        "id": "bREaM159F9AX",
        "outputId": "e47c42d3-094c-4c89-8b15-f0e565815788"
      },
      "execution_count": null,
      "outputs": [
        {
          "output_type": "execute_result",
          "data": {
            "text/plain": [
              "(70378, 735)"
            ]
          },
          "metadata": {},
          "execution_count": 74
        }
      ]
    },
    {
      "cell_type": "code",
      "source": [
        "y_test.shape"
      ],
      "metadata": {
        "colab": {
          "base_uri": "https://localhost:8080/"
        },
        "id": "xYdLN4o5GByf",
        "outputId": "cc014b90-aa4d-4aa2-e34c-8e9fdf25146b"
      },
      "execution_count": null,
      "outputs": [
        {
          "output_type": "execute_result",
          "data": {
            "text/plain": [
              "(70378,)"
            ]
          },
          "metadata": {},
          "execution_count": 75
        }
      ]
    },
    {
      "cell_type": "markdown",
      "source": [
        "**Creating model**\n"
      ],
      "metadata": {
        "id": "aMk64JJYGHpZ"
      }
    },
    {
      "cell_type": "code",
      "source": [
        "from sklearn.linear_model import LinearRegression"
      ],
      "metadata": {
        "id": "871ns4VGGEWo"
      },
      "execution_count": null,
      "outputs": []
    },
    {
      "cell_type": "code",
      "source": [
        "crop_model = LinearRegression()"
      ],
      "metadata": {
        "id": "X3zhewo5GnqK"
      },
      "execution_count": null,
      "outputs": []
    },
    {
      "cell_type": "code",
      "source": [
        "crop_model.fit(X_train,y_train)"
      ],
      "metadata": {
        "colab": {
          "base_uri": "https://localhost:8080/"
        },
        "id": "hs2IFaH5GqP5",
        "outputId": "dd6c6b7a-26a0-432f-90e8-0fa8f72028ab"
      },
      "execution_count": null,
      "outputs": [
        {
          "output_type": "execute_result",
          "data": {
            "text/plain": [
              "LinearRegression()"
            ]
          },
          "metadata": {},
          "execution_count": 78
        }
      ]
    },
    {
      "cell_type": "markdown",
      "source": [
        "**Prediction**"
      ],
      "metadata": {
        "id": "z9LXwNE6GzJs"
      }
    },
    {
      "cell_type": "code",
      "source": [
        "crop_predictions = crop_model.predict(X_test)\n",
        "crop_predictions"
      ],
      "metadata": {
        "colab": {
          "base_uri": "https://localhost:8080/"
        },
        "id": "iMW5gd1ZGqWc",
        "outputId": "3e2fc9ed-b9b2-4b1d-a6d9-f25e89587599"
      },
      "execution_count": null,
      "outputs": [
        {
          "output_type": "execute_result",
          "data": {
            "text/plain": [
              "array([  591668.81926186, -1224399.18087533,  -528237.48815455, ...,\n",
              "         -79121.86366799,  -152631.26284787,   162578.32881211])"
            ]
          },
          "metadata": {},
          "execution_count": 79
        }
      ]
    },
    {
      "cell_type": "code",
      "source": [
        "crop_model.coef_"
      ],
      "metadata": {
        "colab": {
          "base_uri": "https://localhost:8080/"
        },
        "id": "ghv5It4XHQRs",
        "outputId": "349e0fba-1b32-403e-a268-24a387805764"
      },
      "execution_count": null,
      "outputs": [
        {
          "output_type": "execute_result",
          "data": {
            "text/plain": [
              "array([ 1.67209888e+04,  3.01671735e+01, -1.05211224e+06, -2.37083600e+05,\n",
              "        5.27593751e+04, -1.55761425e+06, -3.66847551e+05, -2.39469572e+04,\n",
              "       -4.59894483e+05, -1.13814216e+06, -7.92059105e+05, -8.06310879e+05,\n",
              "       -8.11495145e+05, -1.28954377e+05, -5.27237219e+05, -1.48069022e+04,\n",
              "       -2.81353402e+06,  2.27441786e+07, -7.26824712e+05, -1.09895549e+06,\n",
              "        2.98393113e+05,  4.48174365e+05, -4.10915756e+05, -4.07108794e+05,\n",
              "       -1.87648915e+04, -4.84516920e+06, -1.14784493e+06, -1.07183245e+06,\n",
              "       -1.86512439e+05, -6.25307352e+05, -1.09961087e+06, -5.49681437e+05,\n",
              "       -6.24938292e+05,  2.75326088e+05, -9.56888971e+04, -2.33741555e+05,\n",
              "       -8.60907578e+04, -4.38374133e+05, -3.21485556e+05,  2.17963959e+05,\n",
              "       -2.47919780e+05, -3.57791257e+06, -4.92131633e+05,  1.77491272e+05,\n",
              "       -5.39601450e+05, -9.38712146e+04,  9.81169853e+04, -2.90393309e+05,\n",
              "       -4.36760420e+05, -3.47607907e+05, -3.82487514e+05, -3.16717845e+05,\n",
              "        2.14387973e+04,  1.82567998e+05, -2.24988723e+06, -2.43366826e+05,\n",
              "        2.45574307e+05,  8.69028807e+04,  1.99608045e+05, -8.09475475e+04,\n",
              "       -4.88814833e+05, -7.08494002e+04, -1.07098739e+05, -2.14585963e+05,\n",
              "       -2.66710248e+05, -3.96244520e+05, -5.12682458e+04,  7.40899210e+04,\n",
              "        1.19650456e+05, -2.76213248e+05,  1.05469284e+06,  8.16295095e+04,\n",
              "       -9.54863751e+04, -2.20837551e+05, -3.42570003e+05, -2.50666221e+05,\n",
              "       -2.07225663e+05, -2.19138651e+05, -5.77891265e+05, -4.50315365e+05,\n",
              "       -1.26470434e+05,  9.58340555e+05, -2.13711315e+05,  3.72219943e+05,\n",
              "       -3.12135138e+05,  9.12511098e+04,  1.62668706e+05, -1.68125311e+05,\n",
              "       -2.28464283e+05, -1.71480761e+06,  1.55168817e+05, -1.04995679e+05,\n",
              "        2.74012001e+05, -1.87947864e+05, -2.39930042e+05, -3.35846954e+05,\n",
              "       -3.46331676e+05, -8.51589280e+04,  1.00702426e+06,  7.15691990e+05,\n",
              "       -2.20652519e+05,  8.89045476e+04, -1.77080164e+05, -2.01063020e+05,\n",
              "       -7.53750524e+04,  3.83556987e+05,  2.93138134e+05,  1.59331777e+05,\n",
              "       -4.88449746e+05,  1.96276834e+05, -4.47654037e+04, -7.84029014e+05,\n",
              "       -1.22281564e+05,  1.52383318e+05,  6.72673054e+05, -1.42389853e+05,\n",
              "        1.69075879e+05, -8.36421541e+05, -3.50050092e+05, -9.15162807e+04,\n",
              "        4.16997642e+05, -1.24774863e+05,  1.73030973e+05, -4.41396695e+05,\n",
              "       -2.65870426e+05, -4.71873932e+05,  4.40165453e+05,  2.78883848e+05,\n",
              "       -2.26707625e+05, -3.58127782e+05,  8.75841867e+05, -4.77890063e+05,\n",
              "        3.07069624e+05, -2.43498679e+05,  4.21044226e+04, -2.39469572e+04,\n",
              "        5.30883559e+04,  9.29857188e+04,  5.24345020e+04, -6.87938472e+04,\n",
              "       -7.78708428e+04,  6.21910691e+05,  7.43629239e+05, -3.17433590e+05,\n",
              "        8.21153445e+05, -1.35698085e+05, -1.20714042e+06,  2.80226395e+05,\n",
              "        8.68432155e+04, -1.70878031e+06,  1.82310728e+05, -8.20072058e+04,\n",
              "        4.81189430e+03, -1.13814216e+06,  3.10763645e+05,  1.71672627e+04,\n",
              "        3.77780598e+05, -8.20307621e+04, -6.09536001e+04,  2.20479600e+05,\n",
              "        1.29502590e+05,  2.86274054e+05,  1.38199660e+06,  1.76884603e+05,\n",
              "        3.03696789e+05, -2.02805190e+05, -2.39913568e+05,  6.59636053e+04,\n",
              "       -2.12503224e+05,  2.75050891e+05, -1.84475707e+05, -4.11564190e+05,\n",
              "        8.53742266e+05, -3.11096266e+05,  1.20651424e+05,  4.86467242e+05,\n",
              "       -4.04020262e+05,  1.15391455e+05,  1.03923279e+05, -1.68925951e+05,\n",
              "       -5.75086208e+05, -1.63914295e+04,  1.70551068e+06,  3.01504550e+04,\n",
              "        1.99729829e+03, -6.57968883e+04, -7.64235516e+04,  5.56335537e+05,\n",
              "       -3.95501255e+05, -1.43266480e+04, -5.70424166e+04,  8.85837878e+06,\n",
              "        1.13008668e+05,  1.15240244e+05,  2.78860779e+05,  8.07734374e+04,\n",
              "       -2.23922227e+05, -8.99652156e+06,  1.32784141e+05, -3.95459885e+05,\n",
              "       -2.50257936e+05, -2.30780716e+05,  2.29799457e+05,  3.25899629e+05,\n",
              "       -1.34853885e+05, -1.30723855e+05,  3.79810485e+05, -3.05383447e+05,\n",
              "       -6.76463302e+05, -1.88652913e+05, -8.65087422e+05,  3.14663104e+05,\n",
              "        6.07580399e+05,  8.76766549e+04, -1.40889896e+05,  3.38560966e+05,\n",
              "       -3.21429722e+05, -2.09991896e+05, -1.81632181e+04, -2.35046918e+05,\n",
              "       -5.17278950e+04, -1.15612636e+05, -1.06623835e+04, -3.79307847e+05,\n",
              "       -5.60006785e+04,  3.99949164e+05,  9.73618204e+03, -1.58887313e+05,\n",
              "       -1.02221636e+05, -2.99270599e+05,  4.63116862e+05, -8.48302661e+04,\n",
              "       -2.70759430e+05,  1.88875966e+03, -1.86847000e+05, -1.26737459e+05,\n",
              "       -2.06975643e+06, -1.48878173e+05,  1.90987684e+05,  7.23314501e+04,\n",
              "       -2.44246834e+05, -3.55486218e+05, -4.36141470e+05, -1.70321600e+05,\n",
              "        1.94526153e+05, -4.92755469e+05,  1.04337376e+06, -1.55561479e+05,\n",
              "        4.70221534e+05,  7.80444522e+04,  6.34378008e+04, -4.54837205e+05,\n",
              "        6.32729099e+03,  1.57388565e+05,  2.08752289e+06, -2.00908051e+07,\n",
              "        1.41116826e+05,  3.36636797e+04,  2.02986501e+03,  6.07180357e+03,\n",
              "       -4.60055963e+04, -3.09373443e+05, -1.07863193e+05, -5.96063007e+04,\n",
              "       -7.61385771e+03, -2.99243504e+05, -3.61546673e+05, -1.59685046e+05,\n",
              "       -2.28926107e+04, -2.16505590e+05, -4.19164670e+05,  1.00644488e+05,\n",
              "       -6.24706152e+04, -2.51977638e+05, -1.72273773e+05, -3.99284455e+05,\n",
              "       -1.24302655e+05,  8.63845540e+04,  1.48436523e+05,  2.58900124e+05,\n",
              "       -3.32358395e+05,  2.48303113e+05, -2.44698286e+05, -3.60469529e+05,\n",
              "       -9.92980559e+05, -4.19141656e+05, -5.09002137e+05, -2.04494940e+05,\n",
              "       -2.73761381e+05, -1.86642002e+06, -1.77849341e+05, -1.78129249e+05,\n",
              "       -9.31036908e+04,  2.32066926e+05,  2.84597698e+04, -5.15830440e+05,\n",
              "        2.38266494e+05, -5.40013147e+05, -1.48480267e+05, -1.54184038e+05,\n",
              "       -1.48385276e+06,  2.12828391e+07, -2.52579563e+05, -2.79532001e+05,\n",
              "        7.37539824e+04, -1.29112343e+06,  4.45015207e+05, -6.92374854e+04,\n",
              "        7.12169584e+04, -5.98675619e+05,  1.67872826e+05, -1.29108732e+05,\n",
              "       -7.73674215e+05,  1.59449178e+06, -3.90401762e+05, -1.12133302e+05,\n",
              "       -1.11498950e+05,  1.56874679e+05, -1.60298886e+05, -7.22340294e+04,\n",
              "       -8.16722453e+04, -1.66715341e+04, -9.21959872e+05,  4.18202388e+04,\n",
              "        8.86261765e+03,  6.34627667e+04, -1.09488362e+05, -4.23855558e+04,\n",
              "       -7.53705448e+04, -8.81430923e+05, -1.77115382e+05, -1.54224603e+05,\n",
              "       -1.17628345e+04,  6.76453917e+03,  9.08319486e+05,  3.46739166e+05,\n",
              "        1.66666946e+04,  1.34624558e+05,  6.49193480e+05,  2.01572641e+05,\n",
              "        5.90101312e+05, -1.63894770e+06, -1.75697115e+05,  1.50980228e+05,\n",
              "       -1.50764663e+04, -7.23098217e+04, -1.79621399e+04,  3.10575791e+05,\n",
              "       -1.24902771e+07,  3.36638226e+07, -1.38931851e+06,  6.70899797e+05,\n",
              "       -3.07987876e+05, -4.22668752e+05,  2.09891874e+05, -2.19946053e+06,\n",
              "       -6.87785196e+04,  1.24672095e+05, -1.15929686e+05, -3.72197414e+05,\n",
              "       -3.65333723e+05, -6.72417933e+03, -3.74748169e+05,  8.84534399e+04,\n",
              "       -6.59329134e+04, -8.20401263e+04, -3.67445660e+04,  3.97986591e+05,\n",
              "        8.16414008e+04, -2.22100214e+05, -1.40659490e+05, -9.15584288e+01,\n",
              "       -1.03747635e+05, -1.01502845e+05, -4.55856836e+05, -4.55789475e+05,\n",
              "       -4.50926273e+04, -1.53327329e+05, -7.49938271e+05,  7.70076993e+04,\n",
              "       -2.42953379e+05, -1.11099616e+06, -1.48428338e+06, -2.52760781e+05,\n",
              "       -2.09053816e+04,  2.83731420e+07,  1.73982462e+05,  1.82485742e+05,\n",
              "       -4.60017585e+05, -2.48791837e+03, -1.97445346e+05,  1.03867315e+06,\n",
              "        1.46188502e+05, -2.48582980e+05, -6.24733239e+04, -2.03210032e+05,\n",
              "        1.64939239e+05, -1.36739612e+05, -4.36956128e+04, -2.80350703e+04,\n",
              "        6.36353811e+04, -1.94170480e+05,  1.68996976e+06, -2.90386439e+05,\n",
              "       -2.00216460e+04, -9.55476066e+04,  7.04631727e+05, -1.29952541e+05,\n",
              "        9.15495168e+05, -1.53414462e+06, -9.70800241e+05, -2.27659786e+04,\n",
              "       -2.37757454e+05, -7.46433620e+04, -1.11971143e+06, -8.00481859e+04,\n",
              "       -6.53627112e+05, -2.76767636e+05,  3.13721124e+05,  6.67110888e+04,\n",
              "        3.57448294e+05, -1.20011895e+03, -1.77859793e+05,  4.37015151e+05,\n",
              "       -1.56154686e+05,  4.59913869e+05,  3.93630627e+04,  1.48400647e+05,\n",
              "        2.27040955e+06,  1.05387858e+05, -2.22002873e+06, -2.07373157e+04,\n",
              "       -2.96170465e+05, -1.18146734e+06,  2.30703790e+04,  1.28274558e+05,\n",
              "       -8.26196510e+04,  1.18724424e+05, -7.17132364e+06, -1.46253298e+05,\n",
              "        7.61924627e+04,  6.12370908e+04,  1.38074934e+05,  9.20614284e+04,\n",
              "        3.99396810e+05,  2.11354411e+05,  4.84660994e+04,  1.51071309e+05,\n",
              "       -2.75926078e+05, -1.12335926e+05, -1.16291165e+05, -1.68461781e+07,\n",
              "        5.96256391e+05, -4.37551433e+05, -1.53162098e+05, -6.86818285e+05,\n",
              "       -5.76612709e+04,  6.78193257e+03,  2.83765892e+06,  6.74221015e+04,\n",
              "        6.59636504e+04, -1.37101817e+06,  4.04141866e+05, -8.93303152e+05,\n",
              "       -3.46180488e+04, -5.35671628e+04, -2.21225409e+05, -1.18425784e+05,\n",
              "       -8.45076452e+04,  2.79768604e+05,  4.01676498e+05, -2.07120970e+05,\n",
              "       -3.74522466e+05, -1.06709145e+05, -4.55261046e+03, -2.56415530e+05,\n",
              "       -7.41740746e+05, -2.58886359e+05,  5.98809654e+05,  1.44954407e+04,\n",
              "       -1.51888901e+06,  5.16825129e+05, -7.37625428e+05, -1.87934317e+05,\n",
              "       -4.83415337e+05,  1.94910128e+04,  4.74523632e+05,  9.17317632e+04,\n",
              "       -1.54566211e+05, -4.27321892e+04,  1.52406768e+05,  3.11898235e+05,\n",
              "        1.57630561e+05, -2.80729582e+05,  5.06623103e+05,  5.41279213e+05,\n",
              "       -6.00708855e+04, -3.12885899e+05, -8.95740395e+04, -6.43740966e+04,\n",
              "        4.65524342e+03,  1.83097296e+05, -6.74060968e+04, -1.59483187e+05,\n",
              "        5.76581336e+04,  1.41216462e+05, -6.97971285e+05,  1.89176557e+05,\n",
              "       -9.58019926e+04,  1.83313469e+05, -1.94311557e+03,  3.37483000e+05,\n",
              "       -3.08310480e+05, -1.53930446e+05, -8.45586609e+04, -2.13514062e+05,\n",
              "       -2.47383850e+05,  1.20380465e+05, -2.46249066e+05, -3.20886659e+04,\n",
              "        7.98619581e+04,  1.34629780e+05, -3.77232259e+05,  1.00902809e+06,\n",
              "       -2.15081523e+05,  5.38172949e+04,  1.31616829e+04, -1.83980474e+05,\n",
              "        1.73863884e+05,  5.86095137e+05,  1.15763031e+05, -3.54527475e+05,\n",
              "        4.93216923e+05, -7.63678344e+05, -7.55458474e+04, -5.58318110e+05,\n",
              "        1.50992554e+05, -1.30519550e+05, -2.78210107e+05,  9.25604167e+04,\n",
              "        7.58270686e+04,  1.20695139e+05,  2.08808163e+05, -1.10249306e+06,\n",
              "       -4.95200277e+04, -1.31515576e+05,  3.89408238e+05, -7.06463284e+04,\n",
              "       -1.52964249e+05,  5.55608602e+05, -1.54558673e+06,  1.56779820e+06,\n",
              "        4.26152172e+04, -2.31430046e+05, -4.53513184e+04, -9.00134387e+04,\n",
              "       -2.34408386e+05,  5.09071404e+05, -3.56258401e+05, -3.27663997e+05,\n",
              "        1.52246455e+04,  3.66859578e+05, -2.17230286e+05,  9.70124710e+04,\n",
              "        5.06148219e+05,  4.74253820e+06, -8.65269501e+05,  3.14826342e+05,\n",
              "       -7.61584667e+05,  2.00574597e+07, -8.95687655e+05,  3.91483594e+04,\n",
              "        1.02647288e+07,  9.33626881e+04, -2.01662760e+05, -1.66979007e+04,\n",
              "        2.39122189e+04, -3.50453521e+04,  7.54780239e+06, -1.41001138e+06,\n",
              "        1.25314861e+05, -3.21480321e+03,  8.01988893e+05, -9.12676553e+05,\n",
              "        5.45777455e+05, -1.58310664e+05, -4.51948047e+02,  3.40383937e+05,\n",
              "       -3.63362859e+05,  1.85738691e+05,  2.70997612e+05, -4.09089048e+05,\n",
              "       -1.14111886e+05, -1.11161376e+05, -7.09604493e+04,  6.54691694e+05,\n",
              "       -8.74204555e+04, -1.15424902e+05,  4.28896906e+05, -8.60476283e+04,\n",
              "       -4.09363584e+05, -9.33705870e+05, -4.51757274e+05, -6.38716657e+04,\n",
              "       -8.59334263e+05,  1.03572300e+05,  3.72579368e+04, -8.42828534e+04,\n",
              "       -2.16803395e+07, -1.01928447e+05, -1.79744142e+05,  4.15853340e+06,\n",
              "       -1.92616893e+05,  9.42586084e+04,  1.98851823e+05,  4.39927516e+04,\n",
              "        1.26188280e+04, -6.28509639e+04,  4.11466186e+04, -6.37766627e+04,\n",
              "        2.99181574e+05, -4.90742131e+06, -7.40897237e+05, -2.78217595e+04,\n",
              "       -5.27124033e+05,  5.70492506e+05,  6.67199130e+05,  6.64505344e+05,\n",
              "       -2.72510631e+05, -1.10256232e+06,  2.36209815e+06, -3.54311324e+06,\n",
              "        2.43171232e+05,  2.39792479e+06, -2.19860421e+05, -5.51152482e+05,\n",
              "        2.17207978e+05, -1.06157846e+05,  1.58905230e+06,  9.78634059e+05,\n",
              "        1.24379815e+05, -5.42065738e+06,  1.92833978e+05,  1.17464134e+05,\n",
              "        1.00392530e+06, -2.54437757e+05, -2.77723800e+06,  2.64945670e+05,\n",
              "       -4.54180159e+06,  2.41639870e+06, -8.85460873e+06,  5.78324096e+05,\n",
              "        1.25801308e+05,  1.45160804e+06,  6.69550191e+07, -1.09951049e+07,\n",
              "       -1.12293732e+05,  1.96344885e+05,  1.21563021e+06, -3.24409836e+05,\n",
              "        9.47952163e+05, -2.31281120e+07,  1.01031396e+06, -1.54559603e+06,\n",
              "        1.11852487e+06,  6.29854852e+05, -7.11261474e+04,  1.90201947e+06,\n",
              "        1.19576335e+05,  1.68494014e+05,  6.05149519e+05, -6.33106665e+06,\n",
              "       -9.62241490e+04, -9.53687917e+04,  4.77977209e+05,  6.09899836e+05,\n",
              "        2.32188527e+05, -1.58681404e+05,  4.76368654e+05, -8.66427575e+05,\n",
              "       -2.38412841e+05,  4.03731217e+05,  2.30501357e+05, -2.62416603e+06,\n",
              "        1.37408026e+05,  4.52092335e+05,  3.47015771e+05,  2.88452424e+04,\n",
              "        7.07589817e+05,  1.13786981e+05,  1.03825774e+06,  1.25982664e+06,\n",
              "        3.42324453e+05, -4.33142000e+05,  1.71222858e+06,  4.19354164e+05,\n",
              "        9.21227340e+05,  5.87399022e+05, -1.56493108e+06,  2.89303059e+05,\n",
              "       -1.11613115e+05, -3.71917422e+06,  1.68709676e+06,  5.85424172e+05,\n",
              "        8.80805763e+05,  2.61185209e+05,  2.90324595e+05, -2.01432884e+05,\n",
              "        8.95883279e+04,  2.49820237e+05, -1.77808082e+06, -9.98330544e+04,\n",
              "       -1.75202840e+07,  6.22828774e+05, -1.01346241e+05,  8.77404072e+05,\n",
              "       -1.91583014e+05,  4.08465738e+04,  2.41864848e+05, -1.00495110e+06,\n",
              "        1.10370301e+06,  5.66983976e+05, -1.32008780e+05, -2.79114628e+06,\n",
              "       -4.61197042e+06,  9.43212625e+05,  1.00587689e+06, -3.11065022e+06,\n",
              "       -5.66206482e+05,  9.61581778e+05,  3.47128414e+05,  7.37141959e+05,\n",
              "       -1.25153127e+06,  5.97164758e+05,  2.35944918e+05])"
            ]
          },
          "metadata": {},
          "execution_count": 80
        }
      ]
    },
    {
      "cell_type": "code",
      "source": [
        "crop_model.intercept_"
      ],
      "metadata": {
        "colab": {
          "base_uri": "https://localhost:8080/"
        },
        "id": "NFm_y3jhHTPU",
        "outputId": "f6332b30-64cd-49e3-b51e-7ffa4a103c56"
      },
      "execution_count": null,
      "outputs": [
        {
          "output_type": "execute_result",
          "data": {
            "text/plain": [
              "-33686294.63228672"
            ]
          },
          "metadata": {},
          "execution_count": 81
        }
      ]
    },
    {
      "cell_type": "code",
      "source": [
        "predicted_crop_val = pd.DataFrame({'Actual':y_test,'Predicted':crop_predictions})\n",
        "predicted_crop_val"
      ],
      "metadata": {
        "colab": {
          "base_uri": "https://localhost:8080/",
          "height": 424
        },
        "id": "-6Mw6yReHXc1",
        "outputId": "c7360bf5-a64b-48b0-a93e-9f45761ffa68"
      },
      "execution_count": null,
      "outputs": [
        {
          "output_type": "execute_result",
          "data": {
            "text/plain": [
              "         Actual   Predicted\n",
              "191452   480.00   591668.82\n",
              "172763   290.00 -1224399.18\n",
              "81954  26248.00  -528237.49\n",
              "79750      6.00 -1579489.85\n",
              "193433    20.00 -1355248.90\n",
              "...         ...         ...\n",
              "216969     5.00  -836851.13\n",
              "1823    2500.00  9175562.30\n",
              "121894    65.00   -79121.86\n",
              "200451     2.00  -152631.26\n",
              "107319   160.00   162578.33\n",
              "\n",
              "[70378 rows x 2 columns]"
            ],
            "text/html": [
              "\n",
              "  <div id=\"df-8c70abe8-b7d0-44e0-a33d-44a8afa1bbdc\">\n",
              "    <div class=\"colab-df-container\">\n",
              "      <div>\n",
              "<style scoped>\n",
              "    .dataframe tbody tr th:only-of-type {\n",
              "        vertical-align: middle;\n",
              "    }\n",
              "\n",
              "    .dataframe tbody tr th {\n",
              "        vertical-align: top;\n",
              "    }\n",
              "\n",
              "    .dataframe thead th {\n",
              "        text-align: right;\n",
              "    }\n",
              "</style>\n",
              "<table border=\"1\" class=\"dataframe\">\n",
              "  <thead>\n",
              "    <tr style=\"text-align: right;\">\n",
              "      <th></th>\n",
              "      <th>Actual</th>\n",
              "      <th>Predicted</th>\n",
              "    </tr>\n",
              "  </thead>\n",
              "  <tbody>\n",
              "    <tr>\n",
              "      <th>191452</th>\n",
              "      <td>480.00</td>\n",
              "      <td>591668.82</td>\n",
              "    </tr>\n",
              "    <tr>\n",
              "      <th>172763</th>\n",
              "      <td>290.00</td>\n",
              "      <td>-1224399.18</td>\n",
              "    </tr>\n",
              "    <tr>\n",
              "      <th>81954</th>\n",
              "      <td>26248.00</td>\n",
              "      <td>-528237.49</td>\n",
              "    </tr>\n",
              "    <tr>\n",
              "      <th>79750</th>\n",
              "      <td>6.00</td>\n",
              "      <td>-1579489.85</td>\n",
              "    </tr>\n",
              "    <tr>\n",
              "      <th>193433</th>\n",
              "      <td>20.00</td>\n",
              "      <td>-1355248.90</td>\n",
              "    </tr>\n",
              "    <tr>\n",
              "      <th>...</th>\n",
              "      <td>...</td>\n",
              "      <td>...</td>\n",
              "    </tr>\n",
              "    <tr>\n",
              "      <th>216969</th>\n",
              "      <td>5.00</td>\n",
              "      <td>-836851.13</td>\n",
              "    </tr>\n",
              "    <tr>\n",
              "      <th>1823</th>\n",
              "      <td>2500.00</td>\n",
              "      <td>9175562.30</td>\n",
              "    </tr>\n",
              "    <tr>\n",
              "      <th>121894</th>\n",
              "      <td>65.00</td>\n",
              "      <td>-79121.86</td>\n",
              "    </tr>\n",
              "    <tr>\n",
              "      <th>200451</th>\n",
              "      <td>2.00</td>\n",
              "      <td>-152631.26</td>\n",
              "    </tr>\n",
              "    <tr>\n",
              "      <th>107319</th>\n",
              "      <td>160.00</td>\n",
              "      <td>162578.33</td>\n",
              "    </tr>\n",
              "  </tbody>\n",
              "</table>\n",
              "<p>70378 rows × 2 columns</p>\n",
              "</div>\n",
              "      <button class=\"colab-df-convert\" onclick=\"convertToInteractive('df-8c70abe8-b7d0-44e0-a33d-44a8afa1bbdc')\"\n",
              "              title=\"Convert this dataframe to an interactive table.\"\n",
              "              style=\"display:none;\">\n",
              "        \n",
              "  <svg xmlns=\"http://www.w3.org/2000/svg\" height=\"24px\"viewBox=\"0 0 24 24\"\n",
              "       width=\"24px\">\n",
              "    <path d=\"M0 0h24v24H0V0z\" fill=\"none\"/>\n",
              "    <path d=\"M18.56 5.44l.94 2.06.94-2.06 2.06-.94-2.06-.94-.94-2.06-.94 2.06-2.06.94zm-11 1L8.5 8.5l.94-2.06 2.06-.94-2.06-.94L8.5 2.5l-.94 2.06-2.06.94zm10 10l.94 2.06.94-2.06 2.06-.94-2.06-.94-.94-2.06-.94 2.06-2.06.94z\"/><path d=\"M17.41 7.96l-1.37-1.37c-.4-.4-.92-.59-1.43-.59-.52 0-1.04.2-1.43.59L10.3 9.45l-7.72 7.72c-.78.78-.78 2.05 0 2.83L4 21.41c.39.39.9.59 1.41.59.51 0 1.02-.2 1.41-.59l7.78-7.78 2.81-2.81c.8-.78.8-2.07 0-2.86zM5.41 20L4 18.59l7.72-7.72 1.47 1.35L5.41 20z\"/>\n",
              "  </svg>\n",
              "      </button>\n",
              "      \n",
              "  <style>\n",
              "    .colab-df-container {\n",
              "      display:flex;\n",
              "      flex-wrap:wrap;\n",
              "      gap: 12px;\n",
              "    }\n",
              "\n",
              "    .colab-df-convert {\n",
              "      background-color: #E8F0FE;\n",
              "      border: none;\n",
              "      border-radius: 50%;\n",
              "      cursor: pointer;\n",
              "      display: none;\n",
              "      fill: #1967D2;\n",
              "      height: 32px;\n",
              "      padding: 0 0 0 0;\n",
              "      width: 32px;\n",
              "    }\n",
              "\n",
              "    .colab-df-convert:hover {\n",
              "      background-color: #E2EBFA;\n",
              "      box-shadow: 0px 1px 2px rgba(60, 64, 67, 0.3), 0px 1px 3px 1px rgba(60, 64, 67, 0.15);\n",
              "      fill: #174EA6;\n",
              "    }\n",
              "\n",
              "    [theme=dark] .colab-df-convert {\n",
              "      background-color: #3B4455;\n",
              "      fill: #D2E3FC;\n",
              "    }\n",
              "\n",
              "    [theme=dark] .colab-df-convert:hover {\n",
              "      background-color: #434B5C;\n",
              "      box-shadow: 0px 1px 3px 1px rgba(0, 0, 0, 0.15);\n",
              "      filter: drop-shadow(0px 1px 2px rgba(0, 0, 0, 0.3));\n",
              "      fill: #FFFFFF;\n",
              "    }\n",
              "  </style>\n",
              "\n",
              "      <script>\n",
              "        const buttonEl =\n",
              "          document.querySelector('#df-8c70abe8-b7d0-44e0-a33d-44a8afa1bbdc button.colab-df-convert');\n",
              "        buttonEl.style.display =\n",
              "          google.colab.kernel.accessAllowed ? 'block' : 'none';\n",
              "\n",
              "        async function convertToInteractive(key) {\n",
              "          const element = document.querySelector('#df-8c70abe8-b7d0-44e0-a33d-44a8afa1bbdc');\n",
              "          const dataTable =\n",
              "            await google.colab.kernel.invokeFunction('convertToInteractive',\n",
              "                                                     [key], {});\n",
              "          if (!dataTable) return;\n",
              "\n",
              "          const docLinkHtml = 'Like what you see? Visit the ' +\n",
              "            '<a target=\"_blank\" href=https://colab.research.google.com/notebooks/data_table.ipynb>data table notebook</a>'\n",
              "            + ' to learn more about interactive tables.';\n",
              "          element.innerHTML = '';\n",
              "          dataTable['output_type'] = 'display_data';\n",
              "          await google.colab.output.renderOutput(dataTable, element);\n",
              "          const docLink = document.createElement('div');\n",
              "          docLink.innerHTML = docLinkHtml;\n",
              "          element.appendChild(docLink);\n",
              "        }\n",
              "      </script>\n",
              "    </div>\n",
              "  </div>\n",
              "  "
            ]
          },
          "metadata": {},
          "execution_count": 82
        }
      ]
    },
    {
      "cell_type": "code",
      "source": [
        "from sklearn.metrics import mean_absolute_error,mean_squared_error,r2_score"
      ],
      "metadata": {
        "id": "ewXCHu_WHdeO"
      },
      "execution_count": null,
      "outputs": []
    },
    {
      "cell_type": "code",
      "source": [
        "df['Production'].mean()"
      ],
      "metadata": {
        "colab": {
          "base_uri": "https://localhost:8080/"
        },
        "id": "vbTqLym7Hhb-",
        "outputId": "bfbc6020-5219-48bb-f96c-f88ab6a0ea00"
      },
      "execution_count": null,
      "outputs": [
        {
          "output_type": "execute_result",
          "data": {
            "text/plain": [
              "648868.9434560126"
            ]
          },
          "metadata": {},
          "execution_count": 84
        }
      ]
    },
    {
      "cell_type": "code",
      "source": [
        "crop_predictions.mean()"
      ],
      "metadata": {
        "colab": {
          "base_uri": "https://localhost:8080/"
        },
        "id": "vjFMPcYjHjzF",
        "outputId": "5fcdfb60-a052-40c0-d45c-ba277fe6a469"
      },
      "execution_count": null,
      "outputs": [
        {
          "output_type": "execute_result",
          "data": {
            "text/plain": [
              "567688.9612009758"
            ]
          },
          "metadata": {},
          "execution_count": 85
        }
      ]
    },
    {
      "cell_type": "code",
      "source": [
        "mean_absolute_error(y_test,crop_predictions)"
      ],
      "metadata": {
        "colab": {
          "base_uri": "https://localhost:8080/"
        },
        "id": "5CEL2rdaHm-Q",
        "outputId": "ea21ea96-9df5-4c07-e2db-577aca228b23"
      },
      "execution_count": null,
      "outputs": [
        {
          "output_type": "execute_result",
          "data": {
            "text/plain": [
              "2199779.5972323604"
            ]
          },
          "metadata": {},
          "execution_count": 86
        }
      ]
    },
    {
      "cell_type": "code",
      "source": [
        "mean_squared_error(y_test,crop_predictions)"
      ],
      "metadata": {
        "colab": {
          "base_uri": "https://localhost:8080/"
        },
        "id": "RL8qiyEVHsHW",
        "outputId": "271e201f-ce11-4c35-e9af-14aa8c831430"
      },
      "execution_count": null,
      "outputs": [
        {
          "output_type": "execute_result",
          "data": {
            "text/plain": [
              "301754861682964.25"
            ]
          },
          "metadata": {},
          "execution_count": 87
        }
      ]
    },
    {
      "cell_type": "code",
      "source": [
        "np.sqrt(mean_squared_error(y_test,crop_predictions))"
      ],
      "metadata": {
        "colab": {
          "base_uri": "https://localhost:8080/"
        },
        "id": "SKOQriHpHw--",
        "outputId": "efc22244-8314-44dc-9beb-5369455ccc7e"
      },
      "execution_count": null,
      "outputs": [
        {
          "output_type": "execute_result",
          "data": {
            "text/plain": [
              "17371092.702618457"
            ]
          },
          "metadata": {},
          "execution_count": 88
        }
      ]
    },
    {
      "cell_type": "code",
      "source": [
        "def mape(actual, pred): \n",
        "    actual, pred = np.array(actual), np.array(pred)\n",
        "    return np.mean(np.abs((actual - pred) / actual)) * 100\n",
        "\n",
        "mape(y_test,crop_predictions)"
      ],
      "metadata": {
        "colab": {
          "base_uri": "https://localhost:8080/"
        },
        "id": "a306RqRKHzn-",
        "outputId": "2bb75f1e-f392-4563-a79c-43dfba0cf840"
      },
      "execution_count": null,
      "outputs": [
        {
          "output_type": "execute_result",
          "data": {
            "text/plain": [
              "7178002.241730147"
            ]
          },
          "metadata": {},
          "execution_count": 89
        }
      ]
    },
    {
      "cell_type": "code",
      "source": [
        "test_residuals = y_test - crop_predictions"
      ],
      "metadata": {
        "id": "VUBlqjWSH4nl"
      },
      "execution_count": null,
      "outputs": []
    },
    {
      "cell_type": "code",
      "source": [
        "test_residuals"
      ],
      "metadata": {
        "colab": {
          "base_uri": "https://localhost:8080/"
        },
        "id": "wvjkFjeOH529",
        "outputId": "f87d63af-4907-4429-ed6a-7b9b8577228e"
      },
      "execution_count": null,
      "outputs": [
        {
          "output_type": "execute_result",
          "data": {
            "text/plain": [
              "191452    -591188.82\n",
              "172763    1224689.18\n",
              "81954      554485.49\n",
              "79750     1579495.85\n",
              "193433    1355268.90\n",
              "             ...    \n",
              "216969     836856.13\n",
              "1823     -9173062.30\n",
              "121894      79186.86\n",
              "200451     152633.26\n",
              "107319    -162418.33\n",
              "Name: Production, Length: 70378, dtype: float64"
            ]
          },
          "metadata": {},
          "execution_count": 91
        }
      ]
    },
    {
      "cell_type": "code",
      "source": [
        "sns.scatterplot(x=y_test,y=test_residuals)\n",
        "plt.axhline(y=0,color='red')\n",
        "plt.title('Residual plot of Testing data');"
      ],
      "metadata": {
        "colab": {
          "base_uri": "https://localhost:8080/",
          "height": 295
        },
        "id": "ZnjEDzeVIOTG",
        "outputId": "a8e327d3-2103-4bd0-f788-623216aa839e"
      },
      "execution_count": null,
      "outputs": [
        {
          "output_type": "display_data",
          "data": {
            "text/plain": [
              "<Figure size 432x288 with 1 Axes>"
            ],
            "image/png": "[encoded data removed]"
          },
          "metadata": {
            "needs_background": "light"
          }
        }
      ]
    },
    {
      "cell_type": "code",
      "source": [
        "r = r2_score(y_test,crop_predictions)\n",
        "print(\"R2score when we predict using Linear Regression is \",r)"
      ],
      "metadata": {
        "colab": {
          "base_uri": "https://localhost:8080/"
        },
        "id": "bWSfV48jJTif",
        "outputId": "aae07751-8cad-4ff4-d89a-bdb16b28a011"
      },
      "execution_count": null,
      "outputs": [
        {
          "output_type": "stream",
          "name": "stdout",
          "text": [
            "R2score when we predict using Linear Regression is  0.18493399566622137\n"
          ]
        }
      ]
    },
    {
      "cell_type": "markdown",
      "source": [
        "**Results of training data**\n"
      ],
      "metadata": {
        "id": "f6fNzcV9Jcgn"
      }
    },
    {
      "cell_type": "code",
      "source": [
        "train_set_predictions = crop_model.predict(X_train)\n",
        "train_set_predictions"
      ],
      "metadata": {
        "colab": {
          "base_uri": "https://localhost:8080/"
        },
        "id": "2JUsOn2xJWaW",
        "outputId": "5908832d-01fb-4002-f9dc-6ec202474eac"
      },
      "execution_count": null,
      "outputs": [
        {
          "output_type": "execute_result",
          "data": {
            "text/plain": [
              "array([-3259622.32998938,  -530500.35001556, -1254656.07860044, ...,\n",
              "         587913.93084943,   474760.02963475,  1698161.198421  ])"
            ]
          },
          "metadata": {},
          "execution_count": 94
        }
      ]
    },
    {
      "cell_type": "code",
      "source": [
        "train_set_predictions.mean()"
      ],
      "metadata": {
        "colab": {
          "base_uri": "https://localhost:8080/"
        },
        "id": "JQhKYaG7JlE3",
        "outputId": "237e20b9-b70a-4fd1-f3df-1d72201cf1c4"
      },
      "execution_count": null,
      "outputs": [
        {
          "output_type": "execute_result",
          "data": {
            "text/plain": [
              "632100.1644935672"
            ]
          },
          "metadata": {},
          "execution_count": 95
        }
      ]
    },
    {
      "cell_type": "code",
      "source": [
        "sns.scatterplot(x=y_train,y=y_train-train_set_predictions)\n",
        "plt.axhline(y=0,color='red')\n",
        "plt.title('Residual plot of Training data');"
      ],
      "metadata": {
        "colab": {
          "base_uri": "https://localhost:8080/",
          "height": 295
        },
        "id": "1wgBTP5WJnl5",
        "outputId": "19ba7ffa-4ace-4ee5-fe67-a7b9d7561363"
      },
      "execution_count": null,
      "outputs": [
        {
          "output_type": "display_data",
          "data": {
            "text/plain": [
              "<Figure size 432x288 with 1 Axes>"
            ],
            "image/png": "[encoded data removed]"
          },
          "metadata": {
            "needs_background": "light"
          }
        }
      ]
    },
    {
      "cell_type": "code",
      "source": [
        "def mape(actual, pred): \n",
        "    actual, pred = np.array(actual), np.array(pred)\n",
        "    return np.mean(np.abs((actual - pred) / actual)) * 100\n",
        "\n",
        "mape(y_train,train_set_predictions)"
      ],
      "metadata": {
        "colab": {
          "base_uri": "https://localhost:8080/"
        },
        "id": "N-qvqQmRJtId",
        "outputId": "1e043f1c-b878-4863-d47d-44ad52915094"
      },
      "execution_count": null,
      "outputs": [
        {
          "output_type": "execute_result",
          "data": {
            "text/plain": [
              "7092939.504862983"
            ]
          },
          "metadata": {},
          "execution_count": 97
        }
      ]
    },
    {
      "cell_type": "code",
      "source": [
        "Crop_data2 = df.drop(['District_Name'],axis=1)"
      ],
      "metadata": {
        "id": "Hm4N0raqLAL1"
      },
      "execution_count": null,
      "outputs": []
    },
    {
      "cell_type": "code",
      "source": [
        "Crop_data2.head()"
      ],
      "metadata": {
        "colab": {
          "base_uri": "https://localhost:8080/",
          "height": 206
        },
        "id": "htBbDOnFLkPC",
        "outputId": "9c540b34-3dbf-405a-d906-34ca2179dc22"
      },
      "execution_count": null,
      "outputs": [
        {
          "output_type": "execute_result",
          "data": {
            "text/plain": [
              "                    State_Name  Crop_Year       Season                 Crop  \\\n",
              "0  Andaman and Nicobar Islands    2000.00  Kharif                  Arecanut   \n",
              "1  Andaman and Nicobar Islands    2000.00  Kharif       Other Kharif pulses   \n",
              "2  Andaman and Nicobar Islands    2000.00  Kharif                      Rice   \n",
              "3  Andaman and Nicobar Islands    2000.00  Whole Year                Banana   \n",
              "4  Andaman and Nicobar Islands    2000.00  Whole Year             Cashewnut   \n",
              "\n",
              "     Area  Production  \n",
              "0 1254.00     2000.00  \n",
              "1    2.00        1.00  \n",
              "2  102.00      321.00  \n",
              "3  176.00      641.00  \n",
              "4  720.00      165.00  "
            ],
            "text/html": [
              "\n",
              "  <div id=\"df-962e96c9-498d-481b-a7dd-2e5e088e2fec\">\n",
              "    <div class=\"colab-df-container\">\n",
              "      <div>\n",
              "<style scoped>\n",
              "    .dataframe tbody tr th:only-of-type {\n",
              "        vertical-align: middle;\n",
              "    }\n",
              "\n",
              "    .dataframe tbody tr th {\n",
              "        vertical-align: top;\n",
              "    }\n",
              "\n",
              "    .dataframe thead th {\n",
              "        text-align: right;\n",
              "    }\n",
              "</style>\n",
              "<table border=\"1\" class=\"dataframe\">\n",
              "  <thead>\n",
              "    <tr style=\"text-align: right;\">\n",
              "      <th></th>\n",
              "      <th>State_Name</th>\n",
              "      <th>Crop_Year</th>\n",
              "      <th>Season</th>\n",
              "      <th>Crop</th>\n",
              "      <th>Area</th>\n",
              "      <th>Production</th>\n",
              "    </tr>\n",
              "  </thead>\n",
              "  <tbody>\n",
              "    <tr>\n",
              "      <th>0</th>\n",
              "      <td>Andaman and Nicobar Islands</td>\n",
              "      <td>2000.00</td>\n",
              "      <td>Kharif</td>\n",
              "      <td>Arecanut</td>\n",
              "      <td>1254.00</td>\n",
              "      <td>2000.00</td>\n",
              "    </tr>\n",
              "    <tr>\n",
              "      <th>1</th>\n",
              "      <td>Andaman and Nicobar Islands</td>\n",
              "      <td>2000.00</td>\n",
              "      <td>Kharif</td>\n",
              "      <td>Other Kharif pulses</td>\n",
              "      <td>2.00</td>\n",
              "      <td>1.00</td>\n",
              "    </tr>\n",
              "    <tr>\n",
              "      <th>2</th>\n",
              "      <td>Andaman and Nicobar Islands</td>\n",
              "      <td>2000.00</td>\n",
              "      <td>Kharif</td>\n",
              "      <td>Rice</td>\n",
              "      <td>102.00</td>\n",
              "      <td>321.00</td>\n",
              "    </tr>\n",
              "    <tr>\n",
              "      <th>3</th>\n",
              "      <td>Andaman and Nicobar Islands</td>\n",
              "      <td>2000.00</td>\n",
              "      <td>Whole Year</td>\n",
              "      <td>Banana</td>\n",
              "      <td>176.00</td>\n",
              "      <td>641.00</td>\n",
              "    </tr>\n",
              "    <tr>\n",
              "      <th>4</th>\n",
              "      <td>Andaman and Nicobar Islands</td>\n",
              "      <td>2000.00</td>\n",
              "      <td>Whole Year</td>\n",
              "      <td>Cashewnut</td>\n",
              "      <td>720.00</td>\n",
              "      <td>165.00</td>\n",
              "    </tr>\n",
              "  </tbody>\n",
              "</table>\n",
              "</div>\n",
              "      <button class=\"colab-df-convert\" onclick=\"convertToInteractive('df-962e96c9-498d-481b-a7dd-2e5e088e2fec')\"\n",
              "              title=\"Convert this dataframe to an interactive table.\"\n",
              "              style=\"display:none;\">\n",
              "        \n",
              "  <svg xmlns=\"http://www.w3.org/2000/svg\" height=\"24px\"viewBox=\"0 0 24 24\"\n",
              "       width=\"24px\">\n",
              "    <path d=\"M0 0h24v24H0V0z\" fill=\"none\"/>\n",
              "    <path d=\"M18.56 5.44l.94 2.06.94-2.06 2.06-.94-2.06-.94-.94-2.06-.94 2.06-2.06.94zm-11 1L8.5 8.5l.94-2.06 2.06-.94-2.06-.94L8.5 2.5l-.94 2.06-2.06.94zm10 10l.94 2.06.94-2.06 2.06-.94-2.06-.94-.94-2.06-.94 2.06-2.06.94z\"/><path d=\"M17.41 7.96l-1.37-1.37c-.4-.4-.92-.59-1.43-.59-.52 0-1.04.2-1.43.59L10.3 9.45l-7.72 7.72c-.78.78-.78 2.05 0 2.83L4 21.41c.39.39.9.59 1.41.59.51 0 1.02-.2 1.41-.59l7.78-7.78 2.81-2.81c.8-.78.8-2.07 0-2.86zM5.41 20L4 18.59l7.72-7.72 1.47 1.35L5.41 20z\"/>\n",
              "  </svg>\n",
              "      </button>\n",
              "      \n",
              "  <style>\n",
              "    .colab-df-container {\n",
              "      display:flex;\n",
              "      flex-wrap:wrap;\n",
              "      gap: 12px;\n",
              "    }\n",
              "\n",
              "    .colab-df-convert {\n",
              "      background-color: #E8F0FE;\n",
              "      border: none;\n",
              "      border-radius: 50%;\n",
              "      cursor: pointer;\n",
              "      display: none;\n",
              "      fill: #1967D2;\n",
              "      height: 32px;\n",
              "      padding: 0 0 0 0;\n",
              "      width: 32px;\n",
              "    }\n",
              "\n",
              "    .colab-df-convert:hover {\n",
              "      background-color: #E2EBFA;\n",
              "      box-shadow: 0px 1px 2px rgba(60, 64, 67, 0.3), 0px 1px 3px 1px rgba(60, 64, 67, 0.15);\n",
              "      fill: #174EA6;\n",
              "    }\n",
              "\n",
              "    [theme=dark] .colab-df-convert {\n",
              "      background-color: #3B4455;\n",
              "      fill: #D2E3FC;\n",
              "    }\n",
              "\n",
              "    [theme=dark] .colab-df-convert:hover {\n",
              "      background-color: #434B5C;\n",
              "      box-shadow: 0px 1px 3px 1px rgba(0, 0, 0, 0.15);\n",
              "      filter: drop-shadow(0px 1px 2px rgba(0, 0, 0, 0.3));\n",
              "      fill: #FFFFFF;\n",
              "    }\n",
              "  </style>\n",
              "\n",
              "      <script>\n",
              "        const buttonEl =\n",
              "          document.querySelector('#df-962e96c9-498d-481b-a7dd-2e5e088e2fec button.colab-df-convert');\n",
              "        buttonEl.style.display =\n",
              "          google.colab.kernel.accessAllowed ? 'block' : 'none';\n",
              "\n",
              "        async function convertToInteractive(key) {\n",
              "          const element = document.querySelector('#df-962e96c9-498d-481b-a7dd-2e5e088e2fec');\n",
              "          const dataTable =\n",
              "            await google.colab.kernel.invokeFunction('convertToInteractive',\n",
              "                                                     [key], {});\n",
              "          if (!dataTable) return;\n",
              "\n",
              "          const docLinkHtml = 'Like what you see? Visit the ' +\n",
              "            '<a target=\"_blank\" href=https://colab.research.google.com/notebooks/data_table.ipynb>data table notebook</a>'\n",
              "            + ' to learn more about interactive tables.';\n",
              "          element.innerHTML = '';\n",
              "          dataTable['output_type'] = 'display_data';\n",
              "          await google.colab.output.renderOutput(dataTable, element);\n",
              "          const docLink = document.createElement('div');\n",
              "          docLink.innerHTML = docLinkHtml;\n",
              "          element.appendChild(docLink);\n",
              "        }\n",
              "      </script>\n",
              "    </div>\n",
              "  </div>\n",
              "  "
            ]
          },
          "metadata": {},
          "execution_count": 99
        }
      ]
    },
    {
      "cell_type": "code",
      "source": [
        "crop_data2_ac = pd.get_dummies(data=Crop_data2)\n",
        "crop_data2_ac.head()"
      ],
      "metadata": {
        "colab": {
          "base_uri": "https://localhost:8080/",
          "height": 334
        },
        "id": "FW2Zx7k1Lm6K",
        "outputId": "e1bec4e5-f894-4386-e94e-8387554aa635"
      },
      "execution_count": null,
      "outputs": [
        {
          "output_type": "execute_result",
          "data": {
            "text/plain": [
              "   Crop_Year    Area  Production  State_Name_Andaman and Nicobar Islands  \\\n",
              "0    2000.00 1254.00     2000.00                                       1   \n",
              "1    2000.00    2.00        1.00                                       1   \n",
              "2    2000.00  102.00      321.00                                       1   \n",
              "3    2000.00  176.00      641.00                                       1   \n",
              "4    2000.00  720.00      165.00                                       1   \n",
              "\n",
              "   State_Name_Andhra Pradesh  State_Name_Arunachal Pradesh  State_Name_Assam  \\\n",
              "0                          0                             0                 0   \n",
              "1                          0                             0                 0   \n",
              "2                          0                             0                 0   \n",
              "3                          0                             0                 0   \n",
              "4                          0                             0                 0   \n",
              "\n",
              "   State_Name_Bihar  State_Name_Chandigarh  State_Name_Chhattisgarh  ...  \\\n",
              "0                 0                      0                        0  ...   \n",
              "1                 0                      0                        0  ...   \n",
              "2                 0                      0                        0  ...   \n",
              "3                 0                      0                        0  ...   \n",
              "4                 0                      0                        0  ...   \n",
              "\n",
              "   Crop_Tobacco  Crop_Tomato  Crop_Total foodgrain  Crop_Turmeric  \\\n",
              "0             0            0                     0              0   \n",
              "1             0            0                     0              0   \n",
              "2             0            0                     0              0   \n",
              "3             0            0                     0              0   \n",
              "4             0            0                     0              0   \n",
              "\n",
              "   Crop_Turnip  Crop_Urad  Crop_Varagu  Crop_Wheat  Crop_other misc. pulses  \\\n",
              "0            0          0            0           0                        0   \n",
              "1            0          0            0           0                        0   \n",
              "2            0          0            0           0                        0   \n",
              "3            0          0            0           0                        0   \n",
              "4            0          0            0           0                        0   \n",
              "\n",
              "   Crop_other oilseeds  \n",
              "0                    0  \n",
              "1                    0  \n",
              "2                    0  \n",
              "3                    0  \n",
              "4                    0  \n",
              "\n",
              "[5 rows x 145 columns]"
            ],
            "text/html": [
              "\n",
              "  <div id=\"df-5b65f585-94ad-4cb5-8f4f-237e65e1adc0\">\n",
              "    <div class=\"colab-df-container\">\n",
              "      <div>\n",
              "<style scoped>\n",
              "    .dataframe tbody tr th:only-of-type {\n",
              "        vertical-align: middle;\n",
              "    }\n",
              "\n",
              "    .dataframe tbody tr th {\n",
              "        vertical-align: top;\n",
              "    }\n",
              "\n",
              "    .dataframe thead th {\n",
              "        text-align: right;\n",
              "    }\n",
              "</style>\n",
              "<table border=\"1\" class=\"dataframe\">\n",
              "  <thead>\n",
              "    <tr style=\"text-align: right;\">\n",
              "      <th></th>\n",
              "      <th>Crop_Year</th>\n",
              "      <th>Area</th>\n",
              "      <th>Production</th>\n",
              "      <th>State_Name_Andaman and Nicobar Islands</th>\n",
              "      <th>State_Name_Andhra Pradesh</th>\n",
              "      <th>State_Name_Arunachal Pradesh</th>\n",
              "      <th>State_Name_Assam</th>\n",
              "      <th>State_Name_Bihar</th>\n",
              "      <th>State_Name_Chandigarh</th>\n",
              "      <th>State_Name_Chhattisgarh</th>\n",
              "      <th>...</th>\n",
              "      <th>Crop_Tobacco</th>\n",
              "      <th>Crop_Tomato</th>\n",
              "      <th>Crop_Total foodgrain</th>\n",
              "      <th>Crop_Turmeric</th>\n",
              "      <th>Crop_Turnip</th>\n",
              "      <th>Crop_Urad</th>\n",
              "      <th>Crop_Varagu</th>\n",
              "      <th>Crop_Wheat</th>\n",
              "      <th>Crop_other misc. pulses</th>\n",
              "      <th>Crop_other oilseeds</th>\n",
              "    </tr>\n",
              "  </thead>\n",
              "  <tbody>\n",
              "    <tr>\n",
              "      <th>0</th>\n",
              "      <td>2000.00</td>\n",
              "      <td>1254.00</td>\n",
              "      <td>2000.00</td>\n",
              "      <td>1</td>\n",
              "      <td>0</td>\n",
              "      <td>0</td>\n",
              "      <td>0</td>\n",
              "      <td>0</td>\n",
              "      <td>0</td>\n",
              "      <td>0</td>\n",
              "      <td>...</td>\n",
              "      <td>0</td>\n",
              "      <td>0</td>\n",
              "      <td>0</td>\n",
              "      <td>0</td>\n",
              "      <td>0</td>\n",
              "      <td>0</td>\n",
              "      <td>0</td>\n",
              "      <td>0</td>\n",
              "      <td>0</td>\n",
              "      <td>0</td>\n",
              "    </tr>\n",
              "    <tr>\n",
              "      <th>1</th>\n",
              "      <td>2000.00</td>\n",
              "      <td>2.00</td>\n",
              "      <td>1.00</td>\n",
              "      <td>1</td>\n",
              "      <td>0</td>\n",
              "      <td>0</td>\n",
              "      <td>0</td>\n",
              "      <td>0</td>\n",
              "      <td>0</td>\n",
              "      <td>0</td>\n",
              "      <td>...</td>\n",
              "      <td>0</td>\n",
              "      <td>0</td>\n",
              "      <td>0</td>\n",
              "      <td>0</td>\n",
              "      <td>0</td>\n",
              "      <td>0</td>\n",
              "      <td>0</td>\n",
              "      <td>0</td>\n",
              "      <td>0</td>\n",
              "      <td>0</td>\n",
              "    </tr>\n",
              "    <tr>\n",
              "      <th>2</th>\n",
              "      <td>2000.00</td>\n",
              "      <td>102.00</td>\n",
              "      <td>321.00</td>\n",
              "      <td>1</td>\n",
              "      <td>0</td>\n",
              "      <td>0</td>\n",
              "      <td>0</td>\n",
              "      <td>0</td>\n",
              "      <td>0</td>\n",
              "      <td>0</td>\n",
              "      <td>...</td>\n",
              "      <td>0</td>\n",
              "      <td>0</td>\n",
              "      <td>0</td>\n",
              "      <td>0</td>\n",
              "      <td>0</td>\n",
              "      <td>0</td>\n",
              "      <td>0</td>\n",
              "      <td>0</td>\n",
              "      <td>0</td>\n",
              "      <td>0</td>\n",
              "    </tr>\n",
              "    <tr>\n",
              "      <th>3</th>\n",
              "      <td>2000.00</td>\n",
              "      <td>176.00</td>\n",
              "      <td>641.00</td>\n",
              "      <td>1</td>\n",
              "      <td>0</td>\n",
              "      <td>0</td>\n",
              "      <td>0</td>\n",
              "      <td>0</td>\n",
              "      <td>0</td>\n",
              "      <td>0</td>\n",
              "      <td>...</td>\n",
              "      <td>0</td>\n",
              "      <td>0</td>\n",
              "      <td>0</td>\n",
              "      <td>0</td>\n",
              "      <td>0</td>\n",
              "      <td>0</td>\n",
              "      <td>0</td>\n",
              "      <td>0</td>\n",
              "      <td>0</td>\n",
              "      <td>0</td>\n",
              "    </tr>\n",
              "    <tr>\n",
              "      <th>4</th>\n",
              "      <td>2000.00</td>\n",
              "      <td>720.00</td>\n",
              "      <td>165.00</td>\n",
              "      <td>1</td>\n",
              "      <td>0</td>\n",
              "      <td>0</td>\n",
              "      <td>0</td>\n",
              "      <td>0</td>\n",
              "      <td>0</td>\n",
              "      <td>0</td>\n",
              "      <td>...</td>\n",
              "      <td>0</td>\n",
              "      <td>0</td>\n",
              "      <td>0</td>\n",
              "      <td>0</td>\n",
              "      <td>0</td>\n",
              "      <td>0</td>\n",
              "      <td>0</td>\n",
              "      <td>0</td>\n",
              "      <td>0</td>\n",
              "      <td>0</td>\n",
              "    </tr>\n",
              "  </tbody>\n",
              "</table>\n",
              "<p>5 rows × 145 columns</p>\n",
              "</div>\n",
              "      <button class=\"colab-df-convert\" onclick=\"convertToInteractive('df-5b65f585-94ad-4cb5-8f4f-237e65e1adc0')\"\n",
              "              title=\"Convert this dataframe to an interactive table.\"\n",
              "              style=\"display:none;\">\n",
              "        \n",
              "  <svg xmlns=\"http://www.w3.org/2000/svg\" height=\"24px\"viewBox=\"0 0 24 24\"\n",
              "       width=\"24px\">\n",
              "    <path d=\"M0 0h24v24H0V0z\" fill=\"none\"/>\n",
              "    <path d=\"M18.56 5.44l.94 2.06.94-2.06 2.06-.94-2.06-.94-.94-2.06-.94 2.06-2.06.94zm-11 1L8.5 8.5l.94-2.06 2.06-.94-2.06-.94L8.5 2.5l-.94 2.06-2.06.94zm10 10l.94 2.06.94-2.06 2.06-.94-2.06-.94-.94-2.06-.94 2.06-2.06.94z\"/><path d=\"M17.41 7.96l-1.37-1.37c-.4-.4-.92-.59-1.43-.59-.52 0-1.04.2-1.43.59L10.3 9.45l-7.72 7.72c-.78.78-.78 2.05 0 2.83L4 21.41c.39.39.9.59 1.41.59.51 0 1.02-.2 1.41-.59l7.78-7.78 2.81-2.81c.8-.78.8-2.07 0-2.86zM5.41 20L4 18.59l7.72-7.72 1.47 1.35L5.41 20z\"/>\n",
              "  </svg>\n",
              "      </button>\n",
              "      \n",
              "  <style>\n",
              "    .colab-df-container {\n",
              "      display:flex;\n",
              "      flex-wrap:wrap;\n",
              "      gap: 12px;\n",
              "    }\n",
              "\n",
              "    .colab-df-convert {\n",
              "      background-color: #E8F0FE;\n",
              "      border: none;\n",
              "      border-radius: 50%;\n",
              "      cursor: pointer;\n",
              "      display: none;\n",
              "      fill: #1967D2;\n",
              "      height: 32px;\n",
              "      padding: 0 0 0 0;\n",
              "      width: 32px;\n",
              "    }\n",
              "\n",
              "    .colab-df-convert:hover {\n",
              "      background-color: #E2EBFA;\n",
              "      box-shadow: 0px 1px 2px rgba(60, 64, 67, 0.3), 0px 1px 3px 1px rgba(60, 64, 67, 0.15);\n",
              "      fill: #174EA6;\n",
              "    }\n",
              "\n",
              "    [theme=dark] .colab-df-convert {\n",
              "      background-color: #3B4455;\n",
              "      fill: #D2E3FC;\n",
              "    }\n",
              "\n",
              "    [theme=dark] .colab-df-convert:hover {\n",
              "      background-color: #434B5C;\n",
              "      box-shadow: 0px 1px 3px 1px rgba(0, 0, 0, 0.15);\n",
              "      filter: drop-shadow(0px 1px 2px rgba(0, 0, 0, 0.3));\n",
              "      fill: #FFFFFF;\n",
              "    }\n",
              "  </style>\n",
              "\n",
              "      <script>\n",
              "        const buttonEl =\n",
              "          document.querySelector('#df-5b65f585-94ad-4cb5-8f4f-237e65e1adc0 button.colab-df-convert');\n",
              "        buttonEl.style.display =\n",
              "          google.colab.kernel.accessAllowed ? 'block' : 'none';\n",
              "\n",
              "        async function convertToInteractive(key) {\n",
              "          const element = document.querySelector('#df-5b65f585-94ad-4cb5-8f4f-237e65e1adc0');\n",
              "          const dataTable =\n",
              "            await google.colab.kernel.invokeFunction('convertToInteractive',\n",
              "                                                     [key], {});\n",
              "          if (!dataTable) return;\n",
              "\n",
              "          const docLinkHtml = 'Like what you see? Visit the ' +\n",
              "            '<a target=\"_blank\" href=https://colab.research.google.com/notebooks/data_table.ipynb>data table notebook</a>'\n",
              "            + ' to learn more about interactive tables.';\n",
              "          element.innerHTML = '';\n",
              "          dataTable['output_type'] = 'display_data';\n",
              "          await google.colab.output.renderOutput(dataTable, element);\n",
              "          const docLink = document.createElement('div');\n",
              "          docLink.innerHTML = docLinkHtml;\n",
              "          element.appendChild(docLink);\n",
              "        }\n",
              "      </script>\n",
              "    </div>\n",
              "  </div>\n",
              "  "
            ]
          },
          "metadata": {},
          "execution_count": 100
        }
      ]
    },
    {
      "cell_type": "markdown",
      "source": [
        "**Dividing data into Training and Tesing Data**\n"
      ],
      "metadata": {
        "id": "VuuXdMlBLroD"
      }
    },
    {
      "cell_type": "code",
      "source": [
        "X2 = crop_data2_ac.drop('Production',axis=1)\n",
        "X2.head()"
      ],
      "metadata": {
        "colab": {
          "base_uri": "https://localhost:8080/",
          "height": 334
        },
        "id": "gVjiRcp_LpN7",
        "outputId": "080780c3-0f65-46bc-aa92-cc8a68a722a7"
      },
      "execution_count": null,
      "outputs": [
        {
          "output_type": "execute_result",
          "data": {
            "text/plain": [
              "   Crop_Year    Area  State_Name_Andaman and Nicobar Islands  \\\n",
              "0    2000.00 1254.00                                       1   \n",
              "1    2000.00    2.00                                       1   \n",
              "2    2000.00  102.00                                       1   \n",
              "3    2000.00  176.00                                       1   \n",
              "4    2000.00  720.00                                       1   \n",
              "\n",
              "   State_Name_Andhra Pradesh  State_Name_Arunachal Pradesh  State_Name_Assam  \\\n",
              "0                          0                             0                 0   \n",
              "1                          0                             0                 0   \n",
              "2                          0                             0                 0   \n",
              "3                          0                             0                 0   \n",
              "4                          0                             0                 0   \n",
              "\n",
              "   State_Name_Bihar  State_Name_Chandigarh  State_Name_Chhattisgarh  \\\n",
              "0                 0                      0                        0   \n",
              "1                 0                      0                        0   \n",
              "2                 0                      0                        0   \n",
              "3                 0                      0                        0   \n",
              "4                 0                      0                        0   \n",
              "\n",
              "   State_Name_Dadra and Nagar Haveli  ...  Crop_Tobacco  Crop_Tomato  \\\n",
              "0                                  0  ...             0            0   \n",
              "1                                  0  ...             0            0   \n",
              "2                                  0  ...             0            0   \n",
              "3                                  0  ...             0            0   \n",
              "4                                  0  ...             0            0   \n",
              "\n",
              "   Crop_Total foodgrain  Crop_Turmeric  Crop_Turnip  Crop_Urad  Crop_Varagu  \\\n",
              "0                     0              0            0          0            0   \n",
              "1                     0              0            0          0            0   \n",
              "2                     0              0            0          0            0   \n",
              "3                     0              0            0          0            0   \n",
              "4                     0              0            0          0            0   \n",
              "\n",
              "   Crop_Wheat  Crop_other misc. pulses  Crop_other oilseeds  \n",
              "0           0                        0                    0  \n",
              "1           0                        0                    0  \n",
              "2           0                        0                    0  \n",
              "3           0                        0                    0  \n",
              "4           0                        0                    0  \n",
              "\n",
              "[5 rows x 144 columns]"
            ],
            "text/html": [
              "\n",
              "  <div id=\"df-e8af5f0c-6576-4c99-8786-224ce210150c\">\n",
              "    <div class=\"colab-df-container\">\n",
              "      <div>\n",
              "<style scoped>\n",
              "    .dataframe tbody tr th:only-of-type {\n",
              "        vertical-align: middle;\n",
              "    }\n",
              "\n",
              "    .dataframe tbody tr th {\n",
              "        vertical-align: top;\n",
              "    }\n",
              "\n",
              "    .dataframe thead th {\n",
              "        text-align: right;\n",
              "    }\n",
              "</style>\n",
              "<table border=\"1\" class=\"dataframe\">\n",
              "  <thead>\n",
              "    <tr style=\"text-align: right;\">\n",
              "      <th></th>\n",
              "      <th>Crop_Year</th>\n",
              "      <th>Area</th>\n",
              "      <th>State_Name_Andaman and Nicobar Islands</th>\n",
              "      <th>State_Name_Andhra Pradesh</th>\n",
              "      <th>State_Name_Arunachal Pradesh</th>\n",
              "      <th>State_Name_Assam</th>\n",
              "      <th>State_Name_Bihar</th>\n",
              "      <th>State_Name_Chandigarh</th>\n",
              "      <th>State_Name_Chhattisgarh</th>\n",
              "      <th>State_Name_Dadra and Nagar Haveli</th>\n",
              "      <th>...</th>\n",
              "      <th>Crop_Tobacco</th>\n",
              "      <th>Crop_Tomato</th>\n",
              "      <th>Crop_Total foodgrain</th>\n",
              "      <th>Crop_Turmeric</th>\n",
              "      <th>Crop_Turnip</th>\n",
              "      <th>Crop_Urad</th>\n",
              "      <th>Crop_Varagu</th>\n",
              "      <th>Crop_Wheat</th>\n",
              "      <th>Crop_other misc. pulses</th>\n",
              "      <th>Crop_other oilseeds</th>\n",
              "    </tr>\n",
              "  </thead>\n",
              "  <tbody>\n",
              "    <tr>\n",
              "      <th>0</th>\n",
              "      <td>2000.00</td>\n",
              "      <td>1254.00</td>\n",
              "      <td>1</td>\n",
              "      <td>0</td>\n",
              "      <td>0</td>\n",
              "      <td>0</td>\n",
              "      <td>0</td>\n",
              "      <td>0</td>\n",
              "      <td>0</td>\n",
              "      <td>0</td>\n",
              "      <td>...</td>\n",
              "      <td>0</td>\n",
              "      <td>0</td>\n",
              "      <td>0</td>\n",
              "      <td>0</td>\n",
              "      <td>0</td>\n",
              "      <td>0</td>\n",
              "      <td>0</td>\n",
              "      <td>0</td>\n",
              "      <td>0</td>\n",
              "      <td>0</td>\n",
              "    </tr>\n",
              "    <tr>\n",
              "      <th>1</th>\n",
              "      <td>2000.00</td>\n",
              "      <td>2.00</td>\n",
              "      <td>1</td>\n",
              "      <td>0</td>\n",
              "      <td>0</td>\n",
              "      <td>0</td>\n",
              "      <td>0</td>\n",
              "      <td>0</td>\n",
              "      <td>0</td>\n",
              "      <td>0</td>\n",
              "      <td>...</td>\n",
              "      <td>0</td>\n",
              "      <td>0</td>\n",
              "      <td>0</td>\n",
              "      <td>0</td>\n",
              "      <td>0</td>\n",
              "      <td>0</td>\n",
              "      <td>0</td>\n",
              "      <td>0</td>\n",
              "      <td>0</td>\n",
              "      <td>0</td>\n",
              "    </tr>\n",
              "    <tr>\n",
              "      <th>2</th>\n",
              "      <td>2000.00</td>\n",
              "      <td>102.00</td>\n",
              "      <td>1</td>\n",
              "      <td>0</td>\n",
              "      <td>0</td>\n",
              "      <td>0</td>\n",
              "      <td>0</td>\n",
              "      <td>0</td>\n",
              "      <td>0</td>\n",
              "      <td>0</td>\n",
              "      <td>...</td>\n",
              "      <td>0</td>\n",
              "      <td>0</td>\n",
              "      <td>0</td>\n",
              "      <td>0</td>\n",
              "      <td>0</td>\n",
              "      <td>0</td>\n",
              "      <td>0</td>\n",
              "      <td>0</td>\n",
              "      <td>0</td>\n",
              "      <td>0</td>\n",
              "    </tr>\n",
              "    <tr>\n",
              "      <th>3</th>\n",
              "      <td>2000.00</td>\n",
              "      <td>176.00</td>\n",
              "      <td>1</td>\n",
              "      <td>0</td>\n",
              "      <td>0</td>\n",
              "      <td>0</td>\n",
              "      <td>0</td>\n",
              "      <td>0</td>\n",
              "      <td>0</td>\n",
              "      <td>0</td>\n",
              "      <td>...</td>\n",
              "      <td>0</td>\n",
              "      <td>0</td>\n",
              "      <td>0</td>\n",
              "      <td>0</td>\n",
              "      <td>0</td>\n",
              "      <td>0</td>\n",
              "      <td>0</td>\n",
              "      <td>0</td>\n",
              "      <td>0</td>\n",
              "      <td>0</td>\n",
              "    </tr>\n",
              "    <tr>\n",
              "      <th>4</th>\n",
              "      <td>2000.00</td>\n",
              "      <td>720.00</td>\n",
              "      <td>1</td>\n",
              "      <td>0</td>\n",
              "      <td>0</td>\n",
              "      <td>0</td>\n",
              "      <td>0</td>\n",
              "      <td>0</td>\n",
              "      <td>0</td>\n",
              "      <td>0</td>\n",
              "      <td>...</td>\n",
              "      <td>0</td>\n",
              "      <td>0</td>\n",
              "      <td>0</td>\n",
              "      <td>0</td>\n",
              "      <td>0</td>\n",
              "      <td>0</td>\n",
              "      <td>0</td>\n",
              "      <td>0</td>\n",
              "      <td>0</td>\n",
              "      <td>0</td>\n",
              "    </tr>\n",
              "  </tbody>\n",
              "</table>\n",
              "<p>5 rows × 144 columns</p>\n",
              "</div>\n",
              "      <button class=\"colab-df-convert\" onclick=\"convertToInteractive('df-e8af5f0c-6576-4c99-8786-224ce210150c')\"\n",
              "              title=\"Convert this dataframe to an interactive table.\"\n",
              "              style=\"display:none;\">\n",
              "        \n",
              "  <svg xmlns=\"http://www.w3.org/2000/svg\" height=\"24px\"viewBox=\"0 0 24 24\"\n",
              "       width=\"24px\">\n",
              "    <path d=\"M0 0h24v24H0V0z\" fill=\"none\"/>\n",
              "    <path d=\"M18.56 5.44l.94 2.06.94-2.06 2.06-.94-2.06-.94-.94-2.06-.94 2.06-2.06.94zm-11 1L8.5 8.5l.94-2.06 2.06-.94-2.06-.94L8.5 2.5l-.94 2.06-2.06.94zm10 10l.94 2.06.94-2.06 2.06-.94-2.06-.94-.94-2.06-.94 2.06-2.06.94z\"/><path d=\"M17.41 7.96l-1.37-1.37c-.4-.4-.92-.59-1.43-.59-.52 0-1.04.2-1.43.59L10.3 9.45l-7.72 7.72c-.78.78-.78 2.05 0 2.83L4 21.41c.39.39.9.59 1.41.59.51 0 1.02-.2 1.41-.59l7.78-7.78 2.81-2.81c.8-.78.8-2.07 0-2.86zM5.41 20L4 18.59l7.72-7.72 1.47 1.35L5.41 20z\"/>\n",
              "  </svg>\n",
              "      </button>\n",
              "      \n",
              "  <style>\n",
              "    .colab-df-container {\n",
              "      display:flex;\n",
              "      flex-wrap:wrap;\n",
              "      gap: 12px;\n",
              "    }\n",
              "\n",
              "    .colab-df-convert {\n",
              "      background-color: #E8F0FE;\n",
              "      border: none;\n",
              "      border-radius: 50%;\n",
              "      cursor: pointer;\n",
              "      display: none;\n",
              "      fill: #1967D2;\n",
              "      height: 32px;\n",
              "      padding: 0 0 0 0;\n",
              "      width: 32px;\n",
              "    }\n",
              "\n",
              "    .colab-df-convert:hover {\n",
              "      background-color: #E2EBFA;\n",
              "      box-shadow: 0px 1px 2px rgba(60, 64, 67, 0.3), 0px 1px 3px 1px rgba(60, 64, 67, 0.15);\n",
              "      fill: #174EA6;\n",
              "    }\n",
              "\n",
              "    [theme=dark] .colab-df-convert {\n",
              "      background-color: #3B4455;\n",
              "      fill: #D2E3FC;\n",
              "    }\n",
              "\n",
              "    [theme=dark] .colab-df-convert:hover {\n",
              "      background-color: #434B5C;\n",
              "      box-shadow: 0px 1px 3px 1px rgba(0, 0, 0, 0.15);\n",
              "      filter: drop-shadow(0px 1px 2px rgba(0, 0, 0, 0.3));\n",
              "      fill: #FFFFFF;\n",
              "    }\n",
              "  </style>\n",
              "\n",
              "      <script>\n",
              "        const buttonEl =\n",
              "          document.querySelector('#df-e8af5f0c-6576-4c99-8786-224ce210150c button.colab-df-convert');\n",
              "        buttonEl.style.display =\n",
              "          google.colab.kernel.accessAllowed ? 'block' : 'none';\n",
              "\n",
              "        async function convertToInteractive(key) {\n",
              "          const element = document.querySelector('#df-e8af5f0c-6576-4c99-8786-224ce210150c');\n",
              "          const dataTable =\n",
              "            await google.colab.kernel.invokeFunction('convertToInteractive',\n",
              "                                                     [key], {});\n",
              "          if (!dataTable) return;\n",
              "\n",
              "          const docLinkHtml = 'Like what you see? Visit the ' +\n",
              "            '<a target=\"_blank\" href=https://colab.research.google.com/notebooks/data_table.ipynb>data table notebook</a>'\n",
              "            + ' to learn more about interactive tables.';\n",
              "          element.innerHTML = '';\n",
              "          dataTable['output_type'] = 'display_data';\n",
              "          await google.colab.output.renderOutput(dataTable, element);\n",
              "          const docLink = document.createElement('div');\n",
              "          docLink.innerHTML = docLinkHtml;\n",
              "          element.appendChild(docLink);\n",
              "        }\n",
              "      </script>\n",
              "    </div>\n",
              "  </div>\n",
              "  "
            ]
          },
          "metadata": {},
          "execution_count": 101
        }
      ]
    },
    {
      "cell_type": "code",
      "source": [
        "y2 = crop_data2_ac['Production']\n",
        "y2.head()"
      ],
      "metadata": {
        "colab": {
          "base_uri": "https://localhost:8080/"
        },
        "id": "SpbM9D0WLwcU",
        "outputId": "c4a15a04-09a1-446c-f6a2-a0efbce95927"
      },
      "execution_count": null,
      "outputs": [
        {
          "output_type": "execute_result",
          "data": {
            "text/plain": [
              "0   2000.00\n",
              "1      1.00\n",
              "2    321.00\n",
              "3    641.00\n",
              "4    165.00\n",
              "Name: Production, dtype: float64"
            ]
          },
          "metadata": {},
          "execution_count": 102
        }
      ]
    },
    {
      "cell_type": "code",
      "source": [
        "from sklearn.model_selection import train_test_split"
      ],
      "metadata": {
        "id": "zugAB9LcL0Z5"
      },
      "execution_count": null,
      "outputs": []
    },
    {
      "cell_type": "code",
      "source": [
        "X2_train, X2_test, y2_train, y2_test = train_test_split( X2, y2, test_size=0.33, random_state=42)"
      ],
      "metadata": {
        "id": "qeyhL89RL226"
      },
      "execution_count": null,
      "outputs": []
    },
    {
      "cell_type": "code",
      "source": [
        "from sklearn.linear_model import LinearRegression\n",
        "crop_model2 = LinearRegression()\n",
        "crop_model2.fit(X2_train,y2_train)"
      ],
      "metadata": {
        "colab": {
          "base_uri": "https://localhost:8080/"
        },
        "id": "dWD4vw1kL6mB",
        "outputId": "ad51d724-68f7-4f26-a106-ccc91bb7cb98"
      },
      "execution_count": null,
      "outputs": [
        {
          "output_type": "execute_result",
          "data": {
            "text/plain": [
              "LinearRegression()"
            ]
          },
          "metadata": {},
          "execution_count": 105
        }
      ]
    },
    {
      "cell_type": "code",
      "source": [
        "#Prediction\n",
        "crop2_predictions = crop_model2.predict(X2_test)\n",
        "crop2_predictions"
      ],
      "metadata": {
        "colab": {
          "base_uri": "https://localhost:8080/"
        },
        "id": "tW1HU_MmMALZ",
        "outputId": "c47949aa-7574-4223-db49-3171fb93db54"
      },
      "execution_count": null,
      "outputs": [
        {
          "output_type": "execute_result",
          "data": {
            "text/plain": [
              "array([ -27567.15607489, -242975.82827755,  193874.62415348, ...,\n",
              "       -224034.83310432, -455078.28891501,  120365.51545634])"
            ]
          },
          "metadata": {},
          "execution_count": 106
        }
      ]
    },
    {
      "cell_type": "code",
      "source": [
        "crop_model2.coef_"
      ],
      "metadata": {
        "colab": {
          "base_uri": "https://localhost:8080/"
        },
        "id": "djdwYR_lMGOq",
        "outputId": "ea94be80-bc15-44d0-d41e-0961b22594d6"
      },
      "execution_count": null,
      "outputs": [
        {
          "output_type": "execute_result",
          "data": {
            "text/plain": [
              "array([ 1.66590802e+04,  2.96079446e+01, -1.03622793e+06, -2.78134675e+05,\n",
              "        1.47928246e+05, -1.60208629e+06, -4.06796537e+05,  1.75291490e+04,\n",
              "       -5.99737439e+05, -2.22780505e+06, -1.22475575e+06, -7.47242627e+05,\n",
              "       -7.69837064e+05, -4.46193350e+05, -4.91621014e+05,  7.40470556e+04,\n",
              "       -2.10520691e+06,  2.33295204e+07, -6.55874689e+05, -1.01805782e+06,\n",
              "        3.49140485e+05,  4.85958426e+05, -4.02295781e+05, -3.24549190e+05,\n",
              "        2.12893788e+04, -4.53133471e+06, -1.14790319e+06, -9.41997483e+05,\n",
              "       -1.42979607e+05, -6.78000191e+05, -1.35372204e+06, -5.03057760e+05,\n",
              "       -7.89996083e+05, -4.94763019e+05,  5.38142713e+05,  6.45413459e+05,\n",
              "        6.74866984e+05, -3.05316110e+05, -1.05834403e+06,  2.62245205e+06,\n",
              "       -2.93330986e+06,  3.83022700e+05,  2.66524610e+06, -1.09549605e+05,\n",
              "       -3.49567554e+05,  3.33211384e+05,  5.16960977e+03,  1.76549989e+06,\n",
              "        1.21386827e+06,  3.61772637e+05, -4.83861278e+06,  3.63019104e+05,\n",
              "        3.61224606e+05,  1.30523538e+06,  2.31090706e+05, -4.97262911e+06,\n",
              "        4.87364251e+05, -4.21726153e+06,  2.77686843e+06, -7.46348246e+06,\n",
              "        6.84731460e+05,  3.61448602e+05,  1.51690855e+06,  6.71495257e+07,\n",
              "       -2.33342912e+07,  1.05733037e+04,  3.70281474e+05,  1.31437524e+06,\n",
              "       -2.23334931e+05,  1.11432288e+06, -2.19904463e+07,  1.16869231e+06,\n",
              "       -1.17481198e+06,  1.14440784e+06,  8.28374735e+05,  7.68377145e+04,\n",
              "        1.82941816e+06,  2.65512468e+05,  2.73850874e+05,  7.81670860e+05,\n",
              "       -5.94106873e+06,  1.74136620e+04, -3.57096407e+03,  6.51149944e+05,\n",
              "        7.98723405e+05,  3.71724536e+05, -1.71657276e+03,  4.29697477e+05,\n",
              "       -8.65650071e+04, -1.01622996e+05,  5.27831184e+05,  3.78907483e+05,\n",
              "       -2.42890907e+06,  3.10648682e+05,  6.75090415e+05,  4.91022210e+05,\n",
              "        1.73080809e+04,  9.22622228e+05,  3.04006249e+05,  1.18771075e+06,\n",
              "        1.46854635e+06,  5.45592047e+05, -8.94685439e+05,  1.76977687e+06,\n",
              "        5.83293534e+05,  1.10363831e+06,  7.78549954e+05, -1.15191723e+06,\n",
              "        4.52864796e+05,  1.31605102e+04, -3.05824582e+06,  1.77504603e+06,\n",
              "       -2.93444349e+04,  1.03780967e+06,  3.96532158e+05,  4.70534349e+05,\n",
              "       -7.71132711e+04,  2.28883415e+05,  4.77468020e+05, -1.52000616e+06,\n",
              "        8.41139953e+03, -2.21055133e+07,  6.21658199e+05,  4.43926916e+05,\n",
              "        1.05541302e+06, -4.20612046e+04,  1.64250998e+05,  4.15095074e+05,\n",
              "       -8.42167997e+05,  1.19568491e+06,  7.00781377e+05,  1.03475342e+05,\n",
              "       -2.41842316e+06, -5.82754076e+06,  1.11895031e+06,  1.19540551e+06,\n",
              "       -2.98277196e+06, -2.46915853e+05,  1.20387316e+06,  5.19610236e+05,\n",
              "        4.46566699e+05, -1.09640939e+06,  8.76338700e+05,  4.42895007e+05])"
            ]
          },
          "metadata": {},
          "execution_count": 107
        }
      ]
    },
    {
      "cell_type": "code",
      "source": [
        "crop_model.intercept_"
      ],
      "metadata": {
        "colab": {
          "base_uri": "https://localhost:8080/"
        },
        "id": "MBnnDZ_jMJhh",
        "outputId": "99340b3c-d59a-4fc1-a726-dfc4ea5ad7d2"
      },
      "execution_count": null,
      "outputs": [
        {
          "output_type": "execute_result",
          "data": {
            "text/plain": [
              "-33686294.63228672"
            ]
          },
          "metadata": {},
          "execution_count": 108
        }
      ]
    },
    {
      "cell_type": "code",
      "source": [
        "predicted_crop_val2 = pd.DataFrame({'Actual':y2_test,'Predicted':crop2_predictions})\n",
        "predicted_crop_val2"
      ],
      "metadata": {
        "colab": {
          "base_uri": "https://localhost:8080/",
          "height": 424
        },
        "id": "JPyJD9RSMMOJ",
        "outputId": "5eaf0078-9133-44fd-e99d-9b848d99f89d"
      },
      "execution_count": null,
      "outputs": [
        {
          "output_type": "execute_result",
          "data": {
            "text/plain": [
              "         Actual   Predicted\n",
              "191452   480.00   -27567.16\n",
              "172763   290.00  -242975.83\n",
              "81954  26248.00   193874.62\n",
              "79750      6.00 -1687013.88\n",
              "193433    20.00  -574012.99\n",
              "...         ...         ...\n",
              "216969     5.00  -659197.56\n",
              "1823    2500.00   192876.83\n",
              "121894    65.00  -224034.83\n",
              "200451     2.00  -455078.29\n",
              "107319   160.00   120365.52\n",
              "\n",
              "[70378 rows x 2 columns]"
            ],
            "text/html": [
              "\n",
              "  <div id=\"df-ef975531-3d76-4d0d-86b2-97e8f1fc9e5e\">\n",
              "    <div class=\"colab-df-container\">\n",
              "      <div>\n",
              "<style scoped>\n",
              "    .dataframe tbody tr th:only-of-type {\n",
              "        vertical-align: middle;\n",
              "    }\n",
              "\n",
              "    .dataframe tbody tr th {\n",
              "        vertical-align: top;\n",
              "    }\n",
              "\n",
              "    .dataframe thead th {\n",
              "        text-align: right;\n",
              "    }\n",
              "</style>\n",
              "<table border=\"1\" class=\"dataframe\">\n",
              "  <thead>\n",
              "    <tr style=\"text-align: right;\">\n",
              "      <th></th>\n",
              "      <th>Actual</th>\n",
              "      <th>Predicted</th>\n",
              "    </tr>\n",
              "  </thead>\n",
              "  <tbody>\n",
              "    <tr>\n",
              "      <th>191452</th>\n",
              "      <td>480.00</td>\n",
              "      <td>-27567.16</td>\n",
              "    </tr>\n",
              "    <tr>\n",
              "      <th>172763</th>\n",
              "      <td>290.00</td>\n",
              "      <td>-242975.83</td>\n",
              "    </tr>\n",
              "    <tr>\n",
              "      <th>81954</th>\n",
              "      <td>26248.00</td>\n",
              "      <td>193874.62</td>\n",
              "    </tr>\n",
              "    <tr>\n",
              "      <th>79750</th>\n",
              "      <td>6.00</td>\n",
              "      <td>-1687013.88</td>\n",
              "    </tr>\n",
              "    <tr>\n",
              "      <th>193433</th>\n",
              "      <td>20.00</td>\n",
              "      <td>-574012.99</td>\n",
              "    </tr>\n",
              "    <tr>\n",
              "      <th>...</th>\n",
              "      <td>...</td>\n",
              "      <td>...</td>\n",
              "    </tr>\n",
              "    <tr>\n",
              "      <th>216969</th>\n",
              "      <td>5.00</td>\n",
              "      <td>-659197.56</td>\n",
              "    </tr>\n",
              "    <tr>\n",
              "      <th>1823</th>\n",
              "      <td>2500.00</td>\n",
              "      <td>192876.83</td>\n",
              "    </tr>\n",
              "    <tr>\n",
              "      <th>121894</th>\n",
              "      <td>65.00</td>\n",
              "      <td>-224034.83</td>\n",
              "    </tr>\n",
              "    <tr>\n",
              "      <th>200451</th>\n",
              "      <td>2.00</td>\n",
              "      <td>-455078.29</td>\n",
              "    </tr>\n",
              "    <tr>\n",
              "      <th>107319</th>\n",
              "      <td>160.00</td>\n",
              "      <td>120365.52</td>\n",
              "    </tr>\n",
              "  </tbody>\n",
              "</table>\n",
              "<p>70378 rows × 2 columns</p>\n",
              "</div>\n",
              "      <button class=\"colab-df-convert\" onclick=\"convertToInteractive('df-ef975531-3d76-4d0d-86b2-97e8f1fc9e5e')\"\n",
              "              title=\"Convert this dataframe to an interactive table.\"\n",
              "              style=\"display:none;\">\n",
              "        \n",
              "  <svg xmlns=\"http://www.w3.org/2000/svg\" height=\"24px\"viewBox=\"0 0 24 24\"\n",
              "       width=\"24px\">\n",
              "    <path d=\"M0 0h24v24H0V0z\" fill=\"none\"/>\n",
              "    <path d=\"M18.56 5.44l.94 2.06.94-2.06 2.06-.94-2.06-.94-.94-2.06-.94 2.06-2.06.94zm-11 1L8.5 8.5l.94-2.06 2.06-.94-2.06-.94L8.5 2.5l-.94 2.06-2.06.94zm10 10l.94 2.06.94-2.06 2.06-.94-2.06-.94-.94-2.06-.94 2.06-2.06.94z\"/><path d=\"M17.41 7.96l-1.37-1.37c-.4-.4-.92-.59-1.43-.59-.52 0-1.04.2-1.43.59L10.3 9.45l-7.72 7.72c-.78.78-.78 2.05 0 2.83L4 21.41c.39.39.9.59 1.41.59.51 0 1.02-.2 1.41-.59l7.78-7.78 2.81-2.81c.8-.78.8-2.07 0-2.86zM5.41 20L4 18.59l7.72-7.72 1.47 1.35L5.41 20z\"/>\n",
              "  </svg>\n",
              "      </button>\n",
              "      \n",
              "  <style>\n",
              "    .colab-df-container {\n",
              "      display:flex;\n",
              "      flex-wrap:wrap;\n",
              "      gap: 12px;\n",
              "    }\n",
              "\n",
              "    .colab-df-convert {\n",
              "      background-color: #E8F0FE;\n",
              "      border: none;\n",
              "      border-radius: 50%;\n",
              "      cursor: pointer;\n",
              "      display: none;\n",
              "      fill: #1967D2;\n",
              "      height: 32px;\n",
              "      padding: 0 0 0 0;\n",
              "      width: 32px;\n",
              "    }\n",
              "\n",
              "    .colab-df-convert:hover {\n",
              "      background-color: #E2EBFA;\n",
              "      box-shadow: 0px 1px 2px rgba(60, 64, 67, 0.3), 0px 1px 3px 1px rgba(60, 64, 67, 0.15);\n",
              "      fill: #174EA6;\n",
              "    }\n",
              "\n",
              "    [theme=dark] .colab-df-convert {\n",
              "      background-color: #3B4455;\n",
              "      fill: #D2E3FC;\n",
              "    }\n",
              "\n",
              "    [theme=dark] .colab-df-convert:hover {\n",
              "      background-color: #434B5C;\n",
              "      box-shadow: 0px 1px 3px 1px rgba(0, 0, 0, 0.15);\n",
              "      filter: drop-shadow(0px 1px 2px rgba(0, 0, 0, 0.3));\n",
              "      fill: #FFFFFF;\n",
              "    }\n",
              "  </style>\n",
              "\n",
              "      <script>\n",
              "        const buttonEl =\n",
              "          document.querySelector('#df-ef975531-3d76-4d0d-86b2-97e8f1fc9e5e button.colab-df-convert');\n",
              "        buttonEl.style.display =\n",
              "          google.colab.kernel.accessAllowed ? 'block' : 'none';\n",
              "\n",
              "        async function convertToInteractive(key) {\n",
              "          const element = document.querySelector('#df-ef975531-3d76-4d0d-86b2-97e8f1fc9e5e');\n",
              "          const dataTable =\n",
              "            await google.colab.kernel.invokeFunction('convertToInteractive',\n",
              "                                                     [key], {});\n",
              "          if (!dataTable) return;\n",
              "\n",
              "          const docLinkHtml = 'Like what you see? Visit the ' +\n",
              "            '<a target=\"_blank\" href=https://colab.research.google.com/notebooks/data_table.ipynb>data table notebook</a>'\n",
              "            + ' to learn more about interactive tables.';\n",
              "          element.innerHTML = '';\n",
              "          dataTable['output_type'] = 'display_data';\n",
              "          await google.colab.output.renderOutput(dataTable, element);\n",
              "          const docLink = document.createElement('div');\n",
              "          docLink.innerHTML = docLinkHtml;\n",
              "          element.appendChild(docLink);\n",
              "        }\n",
              "      </script>\n",
              "    </div>\n",
              "  </div>\n",
              "  "
            ]
          },
          "metadata": {},
          "execution_count": 109
        }
      ]
    },
    {
      "cell_type": "code",
      "source": [
        "from sklearn.metrics import mean_absolute_error, mean_squared_error, r2_score\n",
        "df['Production'].mean()"
      ],
      "metadata": {
        "colab": {
          "base_uri": "https://localhost:8080/"
        },
        "id": "PIqUcms6MPeY",
        "outputId": "6492aaae-40ad-4b78-e12d-b1aa6bd916c6"
      },
      "execution_count": null,
      "outputs": [
        {
          "output_type": "execute_result",
          "data": {
            "text/plain": [
              "648868.9434560126"
            ]
          },
          "metadata": {},
          "execution_count": 110
        }
      ]
    },
    {
      "cell_type": "code",
      "source": [
        "crop2_predictions.mean()"
      ],
      "metadata": {
        "colab": {
          "base_uri": "https://localhost:8080/"
        },
        "id": "P5fX4IQnMXjS",
        "outputId": "ef06c638-36dd-46e1-e67f-5c58867c8f1c"
      },
      "execution_count": null,
      "outputs": [
        {
          "output_type": "execute_result",
          "data": {
            "text/plain": [
              "556512.1489000395"
            ]
          },
          "metadata": {},
          "execution_count": 111
        }
      ]
    },
    {
      "cell_type": "code",
      "source": [
        "mean_absolute_error(y_test,crop2_predictions)"
      ],
      "metadata": {
        "colab": {
          "base_uri": "https://localhost:8080/"
        },
        "id": "BjG-E7y6MYxK",
        "outputId": "f88bda36-18f8-482b-f5bb-a9dc3652309a"
      },
      "execution_count": null,
      "outputs": [
        {
          "output_type": "execute_result",
          "data": {
            "text/plain": [
              "2077972.4729596092"
            ]
          },
          "metadata": {},
          "execution_count": 112
        }
      ]
    },
    {
      "cell_type": "code",
      "source": [
        "mean_squared_error(y_test,crop2_predictions)"
      ],
      "metadata": {
        "colab": {
          "base_uri": "https://localhost:8080/"
        },
        "id": "-5RTG9T5McaC",
        "outputId": "7bcafe35-5e8c-4329-9751-6b73730edca8"
      },
      "execution_count": null,
      "outputs": [
        {
          "output_type": "execute_result",
          "data": {
            "text/plain": [
              "306965695608223.44"
            ]
          },
          "metadata": {},
          "execution_count": 113
        }
      ]
    },
    {
      "cell_type": "code",
      "source": [
        "np.sqrt(mean_squared_error(y_test,crop2_predictions))"
      ],
      "metadata": {
        "colab": {
          "base_uri": "https://localhost:8080/"
        },
        "id": "QkjRIUQDMjar",
        "outputId": "8a58777f-29bd-45ea-dc83-939371df4015"
      },
      "execution_count": null,
      "outputs": [
        {
          "output_type": "execute_result",
          "data": {
            "text/plain": [
              "17520436.51306164"
            ]
          },
          "metadata": {},
          "execution_count": 114
        }
      ]
    },
    {
      "cell_type": "code",
      "source": [
        "r2_score(y_test,crop2_predictions)"
      ],
      "metadata": {
        "colab": {
          "base_uri": "https://localhost:8080/"
        },
        "id": "66bsVj6oMmlx",
        "outputId": "0d1acd3e-cca8-490a-ba95-5166847d5868"
      },
      "execution_count": null,
      "outputs": [
        {
          "output_type": "execute_result",
          "data": {
            "text/plain": [
              "0.1708590821320356"
            ]
          },
          "metadata": {},
          "execution_count": 115
        }
      ]
    },
    {
      "cell_type": "code",
      "source": [
        "test2_residuals = y2_test - crop2_predictions"
      ],
      "metadata": {
        "id": "QBCG0CHAMrH0"
      },
      "execution_count": null,
      "outputs": []
    },
    {
      "cell_type": "code",
      "source": [
        "test2_residuals"
      ],
      "metadata": {
        "colab": {
          "base_uri": "https://localhost:8080/"
        },
        "id": "_8vwGV00Msex",
        "outputId": "a936e283-3b8d-4f72-b99f-bcd0d7f4abba"
      },
      "execution_count": null,
      "outputs": [
        {
          "output_type": "execute_result",
          "data": {
            "text/plain": [
              "191452     28047.16\n",
              "172763    243265.83\n",
              "81954    -167626.62\n",
              "79750    1687019.88\n",
              "193433    574032.99\n",
              "            ...    \n",
              "216969    659202.56\n",
              "1823     -190376.83\n",
              "121894    224099.83\n",
              "200451    455080.29\n",
              "107319   -120205.52\n",
              "Name: Production, Length: 70378, dtype: float64"
            ]
          },
          "metadata": {},
          "execution_count": 117
        }
      ]
    },
    {
      "cell_type": "code",
      "source": [
        "sns.scatterplot(x=y2_test,y=test2_residuals)\n",
        "plt.axhline(y=0,color='red')"
      ],
      "metadata": {
        "colab": {
          "base_uri": "https://localhost:8080/",
          "height": 307
        },
        "id": "QKdyuEPJMw9w",
        "outputId": "674e753d-c60a-4d51-d9ca-fb36d30c3f94"
      },
      "execution_count": null,
      "outputs": [
        {
          "output_type": "execute_result",
          "data": {
            "text/plain": [
              "<matplotlib.lines.Line2D at 0x7f15112d0c90>"
            ]
          },
          "metadata": {},
          "execution_count": 118
        },
        {
          "output_type": "display_data",
          "data": {
            "text/plain": [
              "<Figure size 432x288 with 1 Axes>"
            ],
            "image/png": "[encoded data removed]"
          },
          "metadata": {
            "needs_background": "light"
          }
        }
      ]
    }
  ]
}